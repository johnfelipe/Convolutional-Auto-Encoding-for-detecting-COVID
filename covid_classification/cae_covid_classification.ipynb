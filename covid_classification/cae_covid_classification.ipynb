{
  "nbformat": 4,
  "nbformat_minor": 0,
  "metadata": {
    "colab": {
      "name": "cae_covid_classification.ipynb",
      "provenance": [],
      "collapsed_sections": []
    },
    "kernelspec": {
      "name": "python3",
      "display_name": "Python 3"
    },
    "language_info": {
      "name": "python"
    },
    "accelerator": "GPU"
  },
  "cells": [
    {
      "cell_type": "code",
      "metadata": {
        "id": "mk2kb2kjzNZU"
      },
      "source": [
        "from tqdm.notebook import tqdm_notebook\n",
        "import tensorflow as tf\n",
        "import zipfile\n",
        "import glob\n",
        "import numpy as np\n",
        "import pandas as pd\n",
        "from sklearn.model_selection import train_test_split\n",
        "from sklearn import metrics\n",
        "import matplotlib.pyplot as plt\n",
        "import seaborn as sns\n",
        "import os\n",
        "import random\n",
        "import shutil"
      ],
      "execution_count": 3,
      "outputs": []
    },
    {
      "cell_type": "code",
      "metadata": {
        "id": "OQ4ggzE4zUKN"
      },
      "source": [
        "tf.random.set_seed(1)\n",
        "random.seed(1)\n",
        "np.random.seed(1)"
      ],
      "execution_count": 4,
      "outputs": []
    },
    {
      "cell_type": "code",
      "metadata": {
        "colab": {
          "base_uri": "https://localhost:8080/"
        },
        "id": "GtSBTgCVzmpA",
        "outputId": "1198baca-65f3-4176-e606-0a6473dc7288"
      },
      "source": [
        "!wget \"https://storage.googleapis.com/cae_covid_classification/covid_normal_pneumonia.zip\""
      ],
      "execution_count": 5,
      "outputs": [
        {
          "output_type": "stream",
          "text": [
            "--2021-07-30 11:45:17--  https://storage.googleapis.com/cae_covid_classification/covid_normal_pneumonia.zip\n",
            "Resolving storage.googleapis.com (storage.googleapis.com)... 74.125.137.128, 142.250.141.128, 142.251.2.128, ...\n",
            "Connecting to storage.googleapis.com (storage.googleapis.com)|74.125.137.128|:443... connected.\n",
            "HTTP request sent, awaiting response... 200 OK\n",
            "Length: 815753304 (778M) [application/x-zip-compressed]\n",
            "Saving to: ‘covid_normal_pneumonia.zip’\n",
            "\n",
            "covid_normal_pneumo 100%[===================>] 777.96M   127MB/s    in 5.5s    \n",
            "\n",
            "2021-07-30 11:45:23 (141 MB/s) - ‘covid_normal_pneumonia.zip’ saved [815753304/815753304]\n",
            "\n"
          ],
          "name": "stdout"
        }
      ]
    },
    {
      "cell_type": "code",
      "metadata": {
        "id": "PzLluOqhz5So"
      },
      "source": [
        "!unzip -q covid_normal_pneumonia.zip"
      ],
      "execution_count": 6,
      "outputs": []
    },
    {
      "cell_type": "code",
      "metadata": {
        "colab": {
          "base_uri": "https://localhost:8080/"
        },
        "id": "k9Ggr3Hhzmm8",
        "outputId": "73707e8c-3d08-41a6-dcc5-7d3d11b376c0"
      },
      "source": [
        "total_covid = len(os.listdir('covid_normal_pneumonia/COVID/'))\n",
        "total_normal = len(os.listdir('covid_normal_pneumonia/NORMAL/'))\n",
        "total_pneumonia = len(os.listdir('covid_normal_pneumonia/PNEUMONIA/'))\n",
        "print('covid_count : {} | normal_count : {} | pneumonia_count : {}'.format( str(total_covid),str(total_normal),str(total_pneumonia)) )"
      ],
      "execution_count": 7,
      "outputs": [
        {
          "output_type": "stream",
          "text": [
            "covid_count : 3709 | normal_count : 3700 | pneumonia_count : 3700\n"
          ],
          "name": "stdout"
        }
      ]
    },
    {
      "cell_type": "code",
      "metadata": {
        "colab": {
          "base_uri": "https://localhost:8080/"
        },
        "id": "2iNe44wjzmj_",
        "outputId": "a73588c1-a3af-4c5f-ff1a-b1d6f35ca6ea"
      },
      "source": [
        "try:\n",
        "    os.system(\"rm -rf ./split_data\")\n",
        "    os.mkdir('split_data')\n",
        "    os.mkdir('split_data/train')\n",
        "    os.mkdir('split_data/valid_test')\n",
        "    os.mkdir('split_data/valid')\n",
        "    os.mkdir('split_data/test')\n",
        "\n",
        "    os.mkdir('split_data/train/COVID')\n",
        "    os.mkdir('split_data/train/NORMAL')\n",
        "    os.mkdir('split_data/train/PNEUMONIA')\n",
        "\n",
        "    os.mkdir('split_data/valid_test/COVID')\n",
        "    os.mkdir('split_data/valid_test/NORMAL')\n",
        "    os.mkdir('split_data/valid_test/PNEUMONIA')\n",
        "\n",
        "    os.mkdir('split_data/valid/COVID')\n",
        "    os.mkdir('split_data/valid/NORMAL')\n",
        "    os.mkdir('split_data/valid/PNEUMONIA')\n",
        "\n",
        "    os.mkdir('split_data/test/COVID')\n",
        "    os.mkdir('split_data/test/NORMAL')\n",
        "    os.mkdir('split_data/test/PNEUMONIA')\n",
        "    print('created directories')\n",
        "except OSError as e:\n",
        "    print('OS error occurred', e)"
      ],
      "execution_count": 8,
      "outputs": [
        {
          "output_type": "stream",
          "text": [
            "created directories\n"
          ],
          "name": "stdout"
        }
      ]
    },
    {
      "cell_type": "code",
      "metadata": {
        "id": "7yuMNj3wzmhW"
      },
      "source": [
        "def split_data(source, training, testing, split_ratio):\n",
        "  threshold = len(os.listdir(source)) * split_ratio\n",
        "  flag = 0\n",
        "  for i in random.sample(os.listdir(source), len(os.listdir(source))):\n",
        "    flag += 1\n",
        "    if flag <= threshold:\n",
        "      if os.path.getsize(source + i) > 0:\n",
        "        shutil.copyfile(source + i, training + i)\n",
        "      else:\n",
        "        print(source + i + \" is zero length, so ignoring\")\n",
        "    else:\n",
        "      if os.path.getsize(source + i) > 0:\n",
        "        shutil.copyfile(source + i, testing + i)\n",
        "      else:\n",
        "        print(source + i + \" is zero length, so ignoring\")"
      ],
      "execution_count": 9,
      "outputs": []
    },
    {
      "cell_type": "code",
      "metadata": {
        "id": "34mgbtJ20G7D"
      },
      "source": [
        "COVID_SOURCE_DIR = 'covid_normal_pneumonia/COVID/'\n",
        "NORMAL_SOURCE_DIR = 'covid_normal_pneumonia/NORMAL/'\n",
        "PNEUMONIA_SOURCE_DIR = 'covid_normal_pneumonia/PNEUMONIA/'\n",
        "\n",
        "TRAINING_COVID_DIR = 'split_data/train/COVID/'\n",
        "VALID_TEST_COVID_DIR = 'split_data/valid_test/COVID/'\n",
        "VALIDATING_COVID_DIR = 'split_data/valid/COVID/'\n",
        "TESTING_COVID_DIR = 'split_data/test/COVID/'\n",
        "\n",
        "TRAINING_NORMAL_DIR = 'split_data/train/NORMAL/'\n",
        "VALID_TEST_NORMAL_DIR = 'split_data/valid_test/NORMAL/'\n",
        "VALIDATING_NORMAL_DIR = 'split_data/valid/NORMAL/'\n",
        "TESTING_NORMAL_DIR = 'split_data/test/NORMAL/'\n",
        "\n",
        "TRAINING_PNEUMONIA_DIR = 'split_data/train/PNEUMONIA/'\n",
        "VALID_TEST_PNEUMONIA_DIR = 'split_data/valid_test/PNEUMONIA/'\n",
        "VALIDATING_PNEUMONIA_DIR = 'split_data/valid/PNEUMONIA/'\n",
        "TESTING_PNEUMONIA_DIR = 'split_data/test/PNEUMONIA/'"
      ],
      "execution_count": 10,
      "outputs": []
    },
    {
      "cell_type": "code",
      "metadata": {
        "id": "KWElpnl80G4i"
      },
      "source": [
        "split_data(COVID_SOURCE_DIR, TRAINING_COVID_DIR, VALID_TEST_COVID_DIR, 0.729)\n",
        "split_data(VALID_TEST_COVID_DIR, VALIDATING_COVID_DIR, TESTING_COVID_DIR, 0.5)"
      ],
      "execution_count": 11,
      "outputs": []
    },
    {
      "cell_type": "code",
      "metadata": {
        "colab": {
          "base_uri": "https://localhost:8080/"
        },
        "id": "qDL4S89y0G2y",
        "outputId": "67936c18-e3cc-48fc-d049-1f7049ae8a50"
      },
      "source": [
        "tr_c = len(os.listdir(TRAINING_COVID_DIR))\n",
        "vl_c = len(os.listdir(VALIDATING_COVID_DIR))\n",
        "tst_c = len(os.listdir(TESTING_COVID_DIR))\n",
        "print('covid_train count : {} | covid_valid count : {} | covid_test count : {}'.format( str(tr_c),str(vl_c),str(tst_c)) )"
      ],
      "execution_count": 12,
      "outputs": [
        {
          "output_type": "stream",
          "text": [
            "covid_train count : 2703 | covid_valid count : 503 | covid_test count : 503\n"
          ],
          "name": "stdout"
        }
      ]
    },
    {
      "cell_type": "code",
      "metadata": {
        "id": "ZBWX53hx0G0d"
      },
      "source": [
        "split_data(NORMAL_SOURCE_DIR, TRAINING_NORMAL_DIR, VALID_TEST_NORMAL_DIR, 0.729)\n",
        "split_data(VALID_TEST_NORMAL_DIR, VALIDATING_NORMAL_DIR, TESTING_NORMAL_DIR, 0.5)"
      ],
      "execution_count": 13,
      "outputs": []
    },
    {
      "cell_type": "code",
      "metadata": {
        "colab": {
          "base_uri": "https://localhost:8080/"
        },
        "id": "lk7H4G9B3uFo",
        "outputId": "205136f5-654b-4100-8a65-25d4eab480d7"
      },
      "source": [
        "tr_n = len(os.listdir(TRAINING_NORMAL_DIR))\n",
        "vl_n = len(os.listdir(VALIDATING_NORMAL_DIR))\n",
        "tst_n = len(os.listdir(TESTING_NORMAL_DIR))\n",
        "print('normal_train count : {} | normal_valid count : {} | normal_test count : {}'.format( str(tr_n),str(vl_n),str(tst_n)) )"
      ],
      "execution_count": 14,
      "outputs": [
        {
          "output_type": "stream",
          "text": [
            "normal_train count : 2697 | normal_valid count : 501 | normal_test count : 502\n"
          ],
          "name": "stdout"
        }
      ]
    },
    {
      "cell_type": "code",
      "metadata": {
        "id": "StIQ2L1Z3EaX"
      },
      "source": [
        "split_data(PNEUMONIA_SOURCE_DIR, TRAINING_PNEUMONIA_DIR, VALID_TEST_PNEUMONIA_DIR, 0.729)\n",
        "split_data(VALID_TEST_PNEUMONIA_DIR, VALIDATING_PNEUMONIA_DIR, TESTING_PNEUMONIA_DIR, 0.5)"
      ],
      "execution_count": 15,
      "outputs": []
    },
    {
      "cell_type": "code",
      "metadata": {
        "colab": {
          "base_uri": "https://localhost:8080/"
        },
        "id": "8krPm1oo37Np",
        "outputId": "d680ef88-21d0-4066-c7bc-98d01c16d64a"
      },
      "source": [
        "tr_p = len(os.listdir(TRAINING_PNEUMONIA_DIR))\n",
        "vl_p = len(os.listdir(VALIDATING_PNEUMONIA_DIR))\n",
        "tst_p = len(os.listdir(TESTING_PNEUMONIA_DIR))\n",
        "print('pneumonia_train count : {} | pneumonia_valid count : {} | pneumonia_test count : {}'.format( str(tr_p),str(vl_p),str(tst_p)) )"
      ],
      "execution_count": 16,
      "outputs": [
        {
          "output_type": "stream",
          "text": [
            "pneumonia_train count : 2697 | pneumonia_valid count : 501 | pneumonia_test count : 502\n"
          ],
          "name": "stdout"
        }
      ]
    },
    {
      "cell_type": "code",
      "metadata": {
        "colab": {
          "base_uri": "https://localhost:8080/"
        },
        "id": "AExseRUADkUf",
        "outputId": "d20438dd-2baa-43df-e52a-1d6581dd2bca"
      },
      "source": [
        "TRAINING_DIR = 'split_data/train/'\n",
        "train_datagen = tf.keras.preprocessing.image.ImageDataGenerator(rescale=1 / 255.0)\n",
        "train_generator = train_datagen.flow_from_directory(TRAINING_DIR,\n",
        "                                                    target_size=(224, 224),\n",
        "                                                    class_mode='categorical',\n",
        "                                                    shuffle=True,\n",
        "                                                    batch_size=16)\n",
        "\n",
        "VALIDATING_DIR = 'split_data/valid/'\n",
        "valid_datagen = tf.keras.preprocessing.image.ImageDataGenerator(rescale=1 / 255.0)\n",
        "valid_generator = valid_datagen.flow_from_directory(VALIDATING_DIR,\n",
        "                                                    target_size=(224, 224),\n",
        "                                                    class_mode='categorical',\n",
        "                                                    shuffle=False,\n",
        "                                                    batch_size=16)"
      ],
      "execution_count": 17,
      "outputs": [
        {
          "output_type": "stream",
          "text": [
            "Found 8097 images belonging to 3 classes.\n",
            "Found 1505 images belonging to 3 classes.\n"
          ],
          "name": "stdout"
        }
      ]
    },
    {
      "cell_type": "code",
      "metadata": {
        "id": "u5K7mJ374i5E"
      },
      "source": [
        "cae_model = tf.keras.models.load_model('pretrain_cae/cae.h5')"
      ],
      "execution_count": null,
      "outputs": []
    },
    {
      "cell_type": "code",
      "metadata": {
        "id": "5_p6Him844fq"
      },
      "source": [
        "for layer in cae_model.layers[0].layers:\n",
        "  layer.trainable = False"
      ],
      "execution_count": null,
      "outputs": []
    },
    {
      "cell_type": "code",
      "metadata": {
        "colab": {
          "base_uri": "https://localhost:8080/"
        },
        "id": "8FbNwUrH_sLL",
        "outputId": "6bb7e37c-cbac-4117-fc07-1b78cab8a7fa"
      },
      "source": [
        "for batch, label in train_generator:\n",
        "  print(batch.shape)\n",
        "   # values should be in `[0,1]`.\n",
        "  print(np.min(batch[0]), np.max(batch[0]))\n",
        "  break\n"
      ],
      "execution_count": null,
      "outputs": [
        {
          "output_type": "stream",
          "text": [
            "(16, 224, 224, 3)\n",
            "0.0 1.0\n"
          ],
          "name": "stdout"
        }
      ]
    },
    {
      "cell_type": "code",
      "metadata": {
        "id": "ynAEb6au48An"
      },
      "source": [
        "enc_out = cae_model.layers[0].output"
      ],
      "execution_count": null,
      "outputs": []
    },
    {
      "cell_type": "code",
      "metadata": {
        "id": "ZKXspdhp4938"
      },
      "source": [
        "y = tf.keras.layers.Reshape((49,512))(enc_out)\n",
        "y = tf.keras.layers.LSTM(512, return_sequences=True)(y)\n",
        "y = tf.keras.layers.Flatten()(y)\n",
        "y = tf.keras.layers.Dense(64, activation='relu')(y)\n",
        "y = tf.keras.layers.Dense(3, activation='softmax')(y)"
      ],
      "execution_count": null,
      "outputs": []
    },
    {
      "cell_type": "code",
      "metadata": {
        "id": "FM2kzTnC5DF8"
      },
      "source": [
        "classification = tf.keras.Model(cae_model.layers[0].input, y)"
      ],
      "execution_count": null,
      "outputs": []
    },
    {
      "cell_type": "code",
      "metadata": {
        "colab": {
          "base_uri": "https://localhost:8080/"
        },
        "id": "Q0bVhvOU5N5t",
        "outputId": "e2398760-f3bc-4403-a3f4-15ca7bd5d23c"
      },
      "source": [
        "classification.summary()"
      ],
      "execution_count": null,
      "outputs": [
        {
          "output_type": "stream",
          "text": [
            "Model: \"model\"\n",
            "_________________________________________________________________\n",
            "Layer (type)                 Output Shape              Param #   \n",
            "=================================================================\n",
            "input_1 (InputLayer)         [(None, 224, 224, 3)]     0         \n",
            "_________________________________________________________________\n",
            "conv2d (Conv2D)              (None, 224, 224, 64)      1792      \n",
            "_________________________________________________________________\n",
            "conv2d_1 (Conv2D)            (None, 224, 224, 64)      36928     \n",
            "_________________________________________________________________\n",
            "max_pooling2d (MaxPooling2D) (None, 112, 112, 64)      0         \n",
            "_________________________________________________________________\n",
            "conv2d_2 (Conv2D)            (None, 112, 112, 128)     73856     \n",
            "_________________________________________________________________\n",
            "max_pooling2d_1 (MaxPooling2 (None, 56, 56, 128)       0         \n",
            "_________________________________________________________________\n",
            "conv2d_3 (Conv2D)            (None, 56, 56, 256)       295168    \n",
            "_________________________________________________________________\n",
            "max_pooling2d_2 (MaxPooling2 (None, 28, 28, 256)       0         \n",
            "_________________________________________________________________\n",
            "conv2d_4 (Conv2D)            (None, 28, 28, 512)       1180160   \n",
            "_________________________________________________________________\n",
            "max_pooling2d_3 (MaxPooling2 (None, 14, 14, 512)       0         \n",
            "_________________________________________________________________\n",
            "conv2d_5 (Conv2D)            (None, 14, 14, 512)       2359808   \n",
            "_________________________________________________________________\n",
            "max_pooling2d_4 (MaxPooling2 (None, 7, 7, 512)         0         \n",
            "_________________________________________________________________\n",
            "reshape (Reshape)            (None, 49, 512)           0         \n",
            "_________________________________________________________________\n",
            "lstm (LSTM)                  (None, 49, 512)           2099200   \n",
            "_________________________________________________________________\n",
            "flatten (Flatten)            (None, 25088)             0         \n",
            "_________________________________________________________________\n",
            "dense (Dense)                (None, 64)                1605696   \n",
            "_________________________________________________________________\n",
            "dense_1 (Dense)              (None, 3)                 195       \n",
            "=================================================================\n",
            "Total params: 7,652,803\n",
            "Trainable params: 3,705,091\n",
            "Non-trainable params: 3,947,712\n",
            "_________________________________________________________________\n"
          ],
          "name": "stdout"
        }
      ]
    },
    {
      "cell_type": "code",
      "metadata": {
        "id": "vHAduELH5OrA"
      },
      "source": [
        "classification.compile(optimizer='adam', loss='categorical_crossentropy', metrics=['accuracy'])"
      ],
      "execution_count": null,
      "outputs": []
    },
    {
      "cell_type": "code",
      "metadata": {
        "id": "10R1ALmY5OoQ"
      },
      "source": [
        "early_stopping_cb = tf.keras.callbacks.EarlyStopping(monitor='val_loss', patience=5, mode='auto')"
      ],
      "execution_count": null,
      "outputs": []
    },
    {
      "cell_type": "code",
      "metadata": {
        "id": "BiP5smLC5Omi"
      },
      "source": [
        "checkpoint_cb = tf.keras.callbacks.ModelCheckpoint('covid_classification.h5', save_best_only=True)"
      ],
      "execution_count": null,
      "outputs": []
    },
    {
      "cell_type": "code",
      "metadata": {
        "id": "rJATMZrpaQBb"
      },
      "source": [
        "epochs = 20"
      ],
      "execution_count": null,
      "outputs": []
    },
    {
      "cell_type": "code",
      "metadata": {
        "colab": {
          "base_uri": "https://localhost:8080/"
        },
        "id": "xpDd0gYs5Ojd",
        "outputId": "b80cf001-2d89-445d-c9d2-d46863959440"
      },
      "source": [
        "history = classification.fit(train_generator,\n",
        "                             epochs=epochs,\n",
        "                             validation_data=valid_generator,\n",
        "                             callbacks=[early_stopping_cb, checkpoint_cb])"
      ],
      "execution_count": null,
      "outputs": [
        {
          "output_type": "stream",
          "text": [
            "Epoch 1/20\n",
            "507/507 [==============================] - 96s 124ms/step - loss: 0.3463 - accuracy: 0.8539 - val_loss: 0.2020 - val_accuracy: 0.9316\n",
            "Epoch 2/20\n",
            "507/507 [==============================] - 62s 122ms/step - loss: 0.1601 - accuracy: 0.9402 - val_loss: 0.1361 - val_accuracy: 0.9535\n",
            "Epoch 3/20\n",
            "507/507 [==============================] - 62s 123ms/step - loss: 0.1101 - accuracy: 0.9616 - val_loss: 0.1081 - val_accuracy: 0.9628\n",
            "Epoch 4/20\n",
            "507/507 [==============================] - 63s 124ms/step - loss: 0.0928 - accuracy: 0.9667 - val_loss: 0.1276 - val_accuracy: 0.9502\n",
            "Epoch 5/20\n",
            "507/507 [==============================] - 62s 123ms/step - loss: 0.0659 - accuracy: 0.9774 - val_loss: 0.1217 - val_accuracy: 0.9581\n",
            "Epoch 6/20\n",
            "507/507 [==============================] - 62s 122ms/step - loss: 0.0556 - accuracy: 0.9810 - val_loss: 0.1283 - val_accuracy: 0.9588\n",
            "Epoch 7/20\n",
            "507/507 [==============================] - 62s 122ms/step - loss: 0.0446 - accuracy: 0.9843 - val_loss: 0.0935 - val_accuracy: 0.9674\n",
            "Epoch 8/20\n",
            "507/507 [==============================] - 62s 123ms/step - loss: 0.0293 - accuracy: 0.9907 - val_loss: 0.1044 - val_accuracy: 0.9668\n",
            "Epoch 9/20\n",
            "507/507 [==============================] - 63s 124ms/step - loss: 0.0303 - accuracy: 0.9879 - val_loss: 0.1041 - val_accuracy: 0.9641\n",
            "Epoch 10/20\n",
            "507/507 [==============================] - 63s 124ms/step - loss: 0.0255 - accuracy: 0.9905 - val_loss: 0.1234 - val_accuracy: 0.9648\n",
            "Epoch 11/20\n",
            "507/507 [==============================] - 62s 122ms/step - loss: 0.0162 - accuracy: 0.9946 - val_loss: 0.1346 - val_accuracy: 0.9641\n",
            "Epoch 12/20\n",
            "507/507 [==============================] - 62s 122ms/step - loss: 0.0144 - accuracy: 0.9948 - val_loss: 0.1297 - val_accuracy: 0.9668\n"
          ],
          "name": "stdout"
        }
      ]
    },
    {
      "cell_type": "code",
      "metadata": {
        "id": "h77O_EreJsTJ",
        "colab": {
          "base_uri": "https://localhost:8080/"
        },
        "outputId": "dd34514a-3522-46cd-f93c-5df693e5bb95"
      },
      "source": [
        "history.history"
      ],
      "execution_count": null,
      "outputs": [
        {
          "output_type": "execute_result",
          "data": {
            "text/plain": [
              "{'accuracy': [0.8538964986801147,\n",
              "  0.9402247667312622,\n",
              "  0.9615907073020935,\n",
              "  0.9666543006896973,\n",
              "  0.9773990511894226,\n",
              "  0.980980634689331,\n",
              "  0.9843151569366455,\n",
              "  0.9907373189926147,\n",
              "  0.987896740436554,\n",
              "  0.9904903173446655,\n",
              "  0.9945659041404724,\n",
              "  0.9948129057884216],\n",
              " 'loss': [0.3463418185710907,\n",
              "  0.16013020277023315,\n",
              "  0.11011523753404617,\n",
              "  0.09283505380153656,\n",
              "  0.06586086750030518,\n",
              "  0.05556926876306534,\n",
              "  0.04464702308177948,\n",
              "  0.02927277982234955,\n",
              "  0.03030536137521267,\n",
              "  0.02553548663854599,\n",
              "  0.016210051253437996,\n",
              "  0.014410680159926414],\n",
              " 'val_accuracy': [0.9315614700317383,\n",
              "  0.9534883499145508,\n",
              "  0.9627906680107117,\n",
              "  0.9501661062240601,\n",
              "  0.9581395387649536,\n",
              "  0.9588040113449097,\n",
              "  0.9674418568611145,\n",
              "  0.9667773842811584,\n",
              "  0.9641196131706238,\n",
              "  0.9647840261459351,\n",
              "  0.9641196131706238,\n",
              "  0.9667773842811584],\n",
              " 'val_loss': [0.20199859142303467,\n",
              "  0.13606096804141998,\n",
              "  0.10811160504817963,\n",
              "  0.12756815552711487,\n",
              "  0.12167493999004364,\n",
              "  0.12825720012187958,\n",
              "  0.09345319867134094,\n",
              "  0.10443942248821259,\n",
              "  0.10405254364013672,\n",
              "  0.12340038269758224,\n",
              "  0.13456220924854279,\n",
              "  0.1296951174736023]}"
            ]
          },
          "metadata": {
            "tags": []
          },
          "execution_count": 30
        }
      ]
    },
    {
      "cell_type": "code",
      "metadata": {
        "id": "OzFahzRqg4zy"
      },
      "source": [
        "classification = tf.keras.models.load_model('covid_classification.h5')  ## load best model"
      ],
      "execution_count": 18,
      "outputs": []
    },
    {
      "cell_type": "code",
      "metadata": {
        "id": "LXzMWEmPJzg5",
        "colab": {
          "base_uri": "https://localhost:8080/",
          "height": 497
        },
        "outputId": "62758326-4de8-44ba-a414-e00339e19baf"
      },
      "source": [
        "acc = history.history['accuracy']\n",
        "val_acc = history.history['val_accuracy']\n",
        "\n",
        "loss = history.history['loss']\n",
        "val_loss = history.history['val_loss']\n",
        "\n",
        "epochs_range = range(len(acc))\n",
        "\n",
        "plt.figure(figsize=(8, 8))\n",
        "# plt.subplot(1, 2, 1)\n",
        "plt.plot(epochs_range, acc, label='Training')\n",
        "plt.plot(epochs_range, val_acc, label='Validation')\n",
        "plt.legend(loc='best')\n",
        "plt.xlabel('Number of epochs')\n",
        "plt.ylabel('Accuracy')\n",
        "plt.savefig('accuracy.png', dpi=300)\n",
        "plt.show()\n",
        "\n",
        "# plt.subplot(1, 2, 2)"
      ],
      "execution_count": null,
      "outputs": [
        {
          "output_type": "display_data",
          "data": {
            "image/png": "[encoded data removed]",
            "text/plain": [
              "<Figure size 576x576 with 1 Axes>"
            ]
          },
          "metadata": {
            "tags": [],
            "needs_background": "light"
          }
        }
      ]
    },
    {
      "cell_type": "code",
      "metadata": {
        "colab": {
          "base_uri": "https://localhost:8080/",
          "height": 497
        },
        "id": "vvkQDH0SZVA_",
        "outputId": "635e1551-801d-4c67-d1cf-a30646ee5b51"
      },
      "source": [
        "plt.figure(figsize=(8, 8))\n",
        "plt.plot(epochs_range, loss, label='Training')\n",
        "plt.plot(epochs_range, val_loss, label='Validation')\n",
        "plt.legend(loc='best')\n",
        "plt.xlabel('Number of epochs')\n",
        "plt.ylabel('Loss')\n",
        "plt.savefig('loss.png', dpi=300)\n",
        "plt.show()"
      ],
      "execution_count": null,
      "outputs": [
        {
          "output_type": "display_data",
          "data": {
            "image/png": "[encoded data removed]",
            "text/plain": [
              "<Figure size 576x576 with 1 Axes>"
            ]
          },
          "metadata": {
            "tags": [],
            "needs_background": "light"
          }
        }
      ]
    },
    {
      "cell_type": "code",
      "metadata": {
        "id": "sOtTNAltg2lK"
      },
      "source": [
        "for i in classification.layers:\n",
        "  i.trainable=True"
      ],
      "execution_count": null,
      "outputs": []
    },
    {
      "cell_type": "code",
      "metadata": {
        "id": "70YkX35giHs_"
      },
      "source": [
        "classification.compile(optimizer=tf.keras.optimizers.Adam(learning_rate=1e-5), loss='categorical_crossentropy', metrics=['accuracy'])"
      ],
      "execution_count": null,
      "outputs": []
    },
    {
      "cell_type": "code",
      "metadata": {
        "colab": {
          "base_uri": "https://localhost:8080/"
        },
        "id": "O4D4AkHahHOU",
        "outputId": "3ef53660-f7af-4d3c-faca-b3d1b35eea7a"
      },
      "source": [
        "history_unfreeze = classification.fit(train_generator,\n",
        "                              epochs=epochs,\n",
        "                              validation_data=valid_generator,\n",
        "                              callbacks=[early_stopping_cb, checkpoint_cb])"
      ],
      "execution_count": null,
      "outputs": [
        {
          "output_type": "stream",
          "text": [
            "Epoch 1/20\n",
            "507/507 [==============================] - 131s 248ms/step - loss: 0.0146 - accuracy: 0.9959 - val_loss: 0.0836 - val_accuracy: 0.9754\n",
            "Epoch 2/20\n",
            "507/507 [==============================] - 125s 247ms/step - loss: 0.0077 - accuracy: 0.9988 - val_loss: 0.0876 - val_accuracy: 0.9748\n",
            "Epoch 3/20\n",
            "507/507 [==============================] - 125s 246ms/step - loss: 0.0051 - accuracy: 0.9990 - val_loss: 0.0914 - val_accuracy: 0.9748\n",
            "Epoch 4/20\n",
            "507/507 [==============================] - 125s 246ms/step - loss: 0.0029 - accuracy: 0.9999 - val_loss: 0.0976 - val_accuracy: 0.9741\n",
            "Epoch 5/20\n",
            "507/507 [==============================] - 125s 246ms/step - loss: 0.0018 - accuracy: 0.9999 - val_loss: 0.1086 - val_accuracy: 0.9734\n",
            "Epoch 6/20\n",
            "507/507 [==============================] - 125s 246ms/step - loss: 0.0012 - accuracy: 1.0000 - val_loss: 0.1084 - val_accuracy: 0.9741\n"
          ],
          "name": "stdout"
        }
      ]
    },
    {
      "cell_type": "code",
      "metadata": {
        "colab": {
          "base_uri": "https://localhost:8080/"
        },
        "id": "bALcJ9x3hOyp",
        "outputId": "b6516caa-71b7-490f-aa33-39c7eff9986e"
      },
      "source": [
        "history_unfreeze.history"
      ],
      "execution_count": null,
      "outputs": [
        {
          "output_type": "execute_result",
          "data": {
            "text/plain": [
              "{'accuracy': [0.9959244132041931,\n",
              "  0.9987649917602539,\n",
              "  0.9990119934082031,\n",
              "  0.9998764991760254,\n",
              "  0.9998764991760254,\n",
              "  1.0],\n",
              " 'loss': [0.014621119946241379,\n",
              "  0.007722055073827505,\n",
              "  0.005074790678918362,\n",
              "  0.0029331627301871777,\n",
              "  0.0018061388982459903,\n",
              "  0.0011915949871763587],\n",
              " 'val_accuracy': [0.9754152894020081,\n",
              "  0.974750816822052,\n",
              "  0.974750816822052,\n",
              "  0.9740864038467407,\n",
              "  0.9734219312667847,\n",
              "  0.9740864038467407],\n",
              " 'val_loss': [0.08355965465307236,\n",
              "  0.08761017769575119,\n",
              "  0.09140530973672867,\n",
              "  0.09757844358682632,\n",
              "  0.1085851863026619,\n",
              "  0.10841714590787888]}"
            ]
          },
          "metadata": {
            "tags": []
          },
          "execution_count": 40
        }
      ]
    },
    {
      "cell_type": "code",
      "metadata": {
        "colab": {
          "base_uri": "https://localhost:8080/",
          "height": 497
        },
        "id": "rk1bbn8zhj3c",
        "outputId": "4c3f1cc7-7517-47f2-becf-4f614d8c9ded"
      },
      "source": [
        "acc = history_unfreeze.history['accuracy']\n",
        "val_acc = history_unfreeze.history['val_accuracy']\n",
        "\n",
        "loss = history_unfreeze.history['loss']\n",
        "val_loss = history_unfreeze.history['val_loss']\n",
        "\n",
        "epochs_range = range(len(acc))\n",
        "\n",
        "plt.figure(figsize=(8, 8))\n",
        "# plt.subplot(1, 2, 1)\n",
        "plt.plot(epochs_range, acc, label='Training')\n",
        "plt.plot(epochs_range, val_acc, label='Validation')\n",
        "plt.legend(loc='best')\n",
        "plt.xlabel('Number of epochs')\n",
        "plt.ylabel('Accuracy')\n",
        "plt.savefig('accuracy_unfreeze.png', dpi=300)\n",
        "plt.show()\n",
        "\n",
        "# plt.subplot(1, 2, 2)"
      ],
      "execution_count": null,
      "outputs": [
        {
          "output_type": "display_data",
          "data": {
            "image/png": "[encoded data removed]",
            "text/plain": [
              "<Figure size 576x576 with 1 Axes>"
            ]
          },
          "metadata": {
            "tags": [],
            "needs_background": "light"
          }
        }
      ]
    },
    {
      "cell_type": "code",
      "metadata": {
        "colab": {
          "base_uri": "https://localhost:8080/",
          "height": 497
        },
        "id": "uBvmRDjahveF",
        "outputId": "9d3026a7-b95c-4125-9cf4-95e34ece38c3"
      },
      "source": [
        "plt.figure(figsize=(8, 8))\n",
        "plt.plot(epochs_range, loss, label='Training')\n",
        "plt.plot(epochs_range, val_loss, label='Validation')\n",
        "plt.legend(loc='best')\n",
        "plt.xlabel('Number of epochs')\n",
        "plt.ylabel('Loss')\n",
        "plt.savefig('loss_unfreeze.png', dpi=300)\n",
        "plt.show()"
      ],
      "execution_count": null,
      "outputs": [
        {
          "output_type": "display_data",
          "data": {
            "image/png": "[encoded data removed]",
            "text/plain": [
              "<Figure size 576x576 with 1 Axes>"
            ]
          },
          "metadata": {
            "tags": [],
            "needs_background": "light"
          }
        }
      ]
    },
    {
      "cell_type": "code",
      "metadata": {
        "id": "s3ymWt4dhz4s"
      },
      "source": [
        "train_loss = history.history['loss']+history_unfreeze.history['loss']"
      ],
      "execution_count": null,
      "outputs": []
    },
    {
      "cell_type": "code",
      "metadata": {
        "id": "aYEaTf1mhzw3"
      },
      "source": [
        "train_acc = history.history['accuracy']+history_unfreeze.history['accuracy']"
      ],
      "execution_count": null,
      "outputs": []
    },
    {
      "cell_type": "code",
      "metadata": {
        "id": "Kh9A8jm-hziy"
      },
      "source": [
        "val_loss = history.history['val_loss']+history_unfreeze.history['val_loss']"
      ],
      "execution_count": null,
      "outputs": []
    },
    {
      "cell_type": "code",
      "metadata": {
        "id": "E5QelmLsiWRs"
      },
      "source": [
        "val_acc = history.history['val_accuracy']+history_unfreeze.history['val_accuracy']"
      ],
      "execution_count": null,
      "outputs": []
    },
    {
      "cell_type": "code",
      "metadata": {
        "colab": {
          "base_uri": "https://localhost:8080/",
          "height": 497
        },
        "id": "Vgl-v-ToihCB",
        "outputId": "a23c79df-db2f-4bd8-dac9-1f3039e2b0b9"
      },
      "source": [
        "epochs_range = range(len(train_loss))\n",
        "\n",
        "plt.figure(figsize=(8, 8))\n",
        "# plt.subplot(1, 2, 1)\n",
        "plt.plot(epochs_range, train_acc, label='Training')\n",
        "plt.plot(epochs_range, val_acc, label='Validation')\n",
        "plt.legend(loc='best')\n",
        "plt.xlabel('Number of epochs')\n",
        "plt.ylabel('Accuracy')\n",
        "plt.savefig('accuracy_overall.png', dpi=300)\n",
        "plt.show()"
      ],
      "execution_count": null,
      "outputs": [
        {
          "output_type": "display_data",
          "data": {
            "image/png": "[encoded data removed]",
            "text/plain": [
              "<Figure size 576x576 with 1 Axes>"
            ]
          },
          "metadata": {
            "tags": [],
            "needs_background": "light"
          }
        }
      ]
    },
    {
      "cell_type": "code",
      "metadata": {
        "colab": {
          "base_uri": "https://localhost:8080/",
          "height": 497
        },
        "id": "rtyVjzoei38M",
        "outputId": "d7511f0e-03ae-46a0-8ed3-87625ca0e8fa"
      },
      "source": [
        "plt.figure(figsize=(8, 8))\n",
        "plt.plot(epochs_range, train_loss, label='Training')\n",
        "plt.plot(epochs_range, val_loss, label='Validation')\n",
        "plt.legend(loc='best')\n",
        "plt.xlabel('Number of epochs')\n",
        "plt.ylabel('Loss')\n",
        "plt.savefig('loss_overall.png', dpi=300)\n",
        "plt.show()"
      ],
      "execution_count": null,
      "outputs": [
        {
          "output_type": "display_data",
          "data": {
            "image/png": "[encoded data removed]",
            "text/plain": [
              "<Figure size 576x576 with 1 Axes>"
            ]
          },
          "metadata": {
            "tags": [],
            "needs_background": "light"
          }
        }
      ]
    },
    {
      "cell_type": "markdown",
      "metadata": {
        "id": "Fuq48LrKihkQ"
      },
      "source": [
        "# TESTING "
      ]
    },
    {
      "cell_type": "code",
      "metadata": {
        "id": "EEHtqflU5OfA",
        "colab": {
          "base_uri": "https://localhost:8080/"
        },
        "outputId": "eb08777c-d7de-4124-bdc6-8cc032d4c6bd"
      },
      "source": [
        "TESING_DIR = 'split_data/test/'\n",
        "test_datagen = tf.keras.preprocessing.image.ImageDataGenerator(rescale=1 / 255.0)\n",
        "test_generator = test_datagen.flow_from_directory(TESING_DIR,\n",
        "                                                    target_size=(224, 224),\n",
        "                                                    class_mode='categorical',\n",
        "                                                    shuffle=False,\n",
        "                                                    batch_size=32)"
      ],
      "execution_count": 19,
      "outputs": [
        {
          "output_type": "stream",
          "text": [
            "Found 1507 images belonging to 3 classes.\n"
          ],
          "name": "stdout"
        }
      ]
    },
    {
      "cell_type": "code",
      "metadata": {
        "id": "UgmQVpEQL2_r"
      },
      "source": [
        "predictions = classification.predict(test_generator)"
      ],
      "execution_count": 20,
      "outputs": []
    },
    {
      "cell_type": "code",
      "metadata": {
        "colab": {
          "base_uri": "https://localhost:8080/"
        },
        "id": "bgQiwU9uMTbb",
        "outputId": "5fbad2cd-cf85-48e8-e54a-22b0aaf74d9e"
      },
      "source": [
        "predictions.shape"
      ],
      "execution_count": 21,
      "outputs": [
        {
          "output_type": "execute_result",
          "data": {
            "text/plain": [
              "(1507, 3)"
            ]
          },
          "metadata": {
            "tags": []
          },
          "execution_count": 21
        }
      ]
    },
    {
      "cell_type": "code",
      "metadata": {
        "colab": {
          "base_uri": "https://localhost:8080/"
        },
        "id": "Gdn76SBCL23y",
        "outputId": "b58787f8-9782-4870-81bd-51c1df765f75"
      },
      "source": [
        "predicted_classes = np.argmax(predictions, axis=-1)\n",
        "min(predicted_classes),max(predicted_classes)  ## must be 0,2"
      ],
      "execution_count": 22,
      "outputs": [
        {
          "output_type": "execute_result",
          "data": {
            "text/plain": [
              "(0, 2)"
            ]
          },
          "metadata": {
            "tags": []
          },
          "execution_count": 22
        }
      ]
    },
    {
      "cell_type": "code",
      "metadata": {
        "colab": {
          "base_uri": "https://localhost:8080/"
        },
        "id": "NMchV7tmL2hp",
        "outputId": "30daa42f-f3a4-4ca2-e6be-ba031423d3e5"
      },
      "source": [
        "test_generator.class_indices"
      ],
      "execution_count": 23,
      "outputs": [
        {
          "output_type": "execute_result",
          "data": {
            "text/plain": [
              "{'COVID': 0, 'NORMAL': 1, 'PNEUMONIA': 2}"
            ]
          },
          "metadata": {
            "tags": []
          },
          "execution_count": 23
        }
      ]
    },
    {
      "cell_type": "code",
      "metadata": {
        "colab": {
          "base_uri": "https://localhost:8080/"
        },
        "id": "vi46if6sM5uZ",
        "outputId": "fc3dad58-c17c-46ac-b79c-d80696e10530"
      },
      "source": [
        "test_generator.classes"
      ],
      "execution_count": 24,
      "outputs": [
        {
          "output_type": "execute_result",
          "data": {
            "text/plain": [
              "array([0, 0, 0, ..., 2, 2, 2], dtype=int32)"
            ]
          },
          "metadata": {
            "tags": []
          },
          "execution_count": 24
        }
      ]
    },
    {
      "cell_type": "code",
      "metadata": {
        "id": "LpvOBZ5JL2w1"
      },
      "source": [
        "labels = test_generator.classes"
      ],
      "execution_count": 25,
      "outputs": []
    },
    {
      "cell_type": "code",
      "metadata": {
        "colab": {
          "base_uri": "https://localhost:8080/"
        },
        "id": "-LVhXM1mK3nt",
        "outputId": "d41eefa0-4b40-4c95-d4ae-39c72f78a124"
      },
      "source": [
        "class_names = list(test_generator.class_indices.keys())\n",
        "class_names"
      ],
      "execution_count": 26,
      "outputs": [
        {
          "output_type": "execute_result",
          "data": {
            "text/plain": [
              "['COVID', 'NORMAL', 'PNEUMONIA']"
            ]
          },
          "metadata": {
            "tags": []
          },
          "execution_count": 26
        }
      ]
    },
    {
      "cell_type": "code",
      "metadata": {
        "colab": {
          "base_uri": "https://localhost:8080/"
        },
        "id": "U4vQOFTAK3jk",
        "outputId": "229d54aa-55af-4b70-faca-66b47e0cf401"
      },
      "source": [
        "classification_report = metrics.classification_report(labels, predicted_classes, target_names=class_names)\n",
        "print(classification_report)"
      ],
      "execution_count": 28,
      "outputs": [
        {
          "output_type": "stream",
          "text": [
            "              precision    recall  f1-score   support\n",
            "\n",
            "       COVID       0.99      0.99      0.99       503\n",
            "      NORMAL       0.99      0.99      0.99       502\n",
            "   PNEUMONIA       1.00      1.00      1.00       502\n",
            "\n",
            "    accuracy                           0.99      1507\n",
            "   macro avg       0.99      0.99      0.99      1507\n",
            "weighted avg       0.99      0.99      0.99      1507\n",
            "\n"
          ],
          "name": "stdout"
        }
      ]
    },
    {
      "cell_type": "code",
      "metadata": {
        "colab": {
          "base_uri": "https://localhost:8080/"
        },
        "id": "HcqQVEFWPbUc",
        "outputId": "586a90cb-d0a0-4377-8a5e-d32bbb2f8c8c"
      },
      "source": [
        "cm_test = metrics.confusion_matrix(labels, predicted_classes)\n",
        "cm_test"
      ],
      "execution_count": 27,
      "outputs": [
        {
          "output_type": "execute_result",
          "data": {
            "text/plain": [
              "array([[500,   3,   0],\n",
              "       [  6, 496,   0],\n",
              "       [  1,   0, 501]])"
            ]
          },
          "metadata": {
            "tags": []
          },
          "execution_count": 27
        }
      ]
    },
    {
      "cell_type": "code",
      "metadata": {
        "id": "728Zs_S7d2vf"
      },
      "source": [
        "def make_confusion_matrix(cf,\n",
        "                          group_names=None,\n",
        "                          categories='auto',\n",
        "                          count=True,\n",
        "                          percent=True,\n",
        "                          cbar=True,\n",
        "                          xyticks=True,\n",
        "                          xyplotlabels=True,\n",
        "                          sum_stats=True,\n",
        "                          figsize=None,\n",
        "                          cmap='YlGnBu',\n",
        "                          title=None,\n",
        "                          save_dir=None):\n",
        "    \n",
        "    # CODE TO GENERATE TEXT INSIDE EACH SQUARE\n",
        "    blanks = ['' for i in range(cf.size)]\n",
        "\n",
        "    if group_names and len(group_names)==cf.size:\n",
        "        group_labels = [\"{}\\n\".format(value) for value in group_names]\n",
        "    else:\n",
        "        group_labels = blanks\n",
        "\n",
        "    if count:\n",
        "        group_counts = [\"{0:0.0f}\\n\".format(value) for value in cf.flatten()]\n",
        "    else:\n",
        "        group_counts = blanks\n",
        "\n",
        "    if percent:\n",
        "        group_percentages = [\"{0:.2%}\".format(value) for value in cf.flatten()/np.sum(cf)]\n",
        "    else:\n",
        "        group_percentages = blanks\n",
        "\n",
        "    box_labels = [f\"{v1}{v2}{v3}\".strip() for v1, v2, v3 in zip(group_labels,group_counts,group_percentages)]\n",
        "    box_labels = np.asarray(box_labels).reshape(cf.shape[0],cf.shape[1])\n",
        "\n",
        "\n",
        "    # CODE TO GENERATE SUMMARY STATISTICS & TEXT FOR SUMMARY STATS\n",
        "    if sum_stats:\n",
        "        #Accuracy is sum of diagonal divided by total observations\n",
        "        accuracy  = np.trace(cf) / float(np.sum(cf))\n",
        "\n",
        "        #if it is a binary confusion matrix, show some more stats\n",
        "        if len(cf)==2:\n",
        "            #Metrics for Binary Confusion Matrices\n",
        "            precision = cf[1,1] / sum(cf[:,1])\n",
        "            recall    = cf[1,1] / sum(cf[1,:])\n",
        "            f1_score  = 2*precision*recall / (precision + recall)\n",
        "            stats_text = \"\\n\\nAccuracy={:0.3f}\\nPrecision={:0.3f}\\nRecall={:0.3f}\\nF1 Score={:0.3f}\".format(\n",
        "                accuracy,precision,recall,f1_score)\n",
        "        else:\n",
        "            stats_text = \"\\n\\nAccuracy={:0.3f}\".format(accuracy)\n",
        "    else:\n",
        "        stats_text = \"\"\n",
        "\n",
        "\n",
        "    # SET FIGURE PARAMETERS ACCORDING TO OTHER ARGUMENTS\n",
        "    if figsize==None:\n",
        "        #Get default figure size if not set\n",
        "        figsize = plt.rcParams.get('figure.figsize')\n",
        "\n",
        "    if xyticks==False:\n",
        "        #Do not show categories if xyticks is False\n",
        "        categories=False\n",
        "\n",
        "\n",
        "    # MAKE THE HEATMAP VISUALIZATION\n",
        "    plt.figure(figsize=figsize)\n",
        "    hmap = sns.heatmap(cf,annot=box_labels,fmt=\"\",cmap=cmap,cbar=cbar,xticklabels=categories,yticklabels=categories)\n",
        "    # hmap.yaxis.set_ticklabels(hmap.yaxis.get_ticklabels(), rotation=0, ha='right')\n",
        "    # hmap.xaxis.set_ticklabels(hmap.xaxis.get_ticklabels(), rotation=90, ha='right')\n",
        "\n",
        "    if xyplotlabels:\n",
        "        plt.ylabel('True label')\n",
        "        plt.xlabel('Predicted label' + stats_text)\n",
        "    else:\n",
        "        plt.xlabel(stats_text)\n",
        "    \n",
        "    if title:\n",
        "        plt.title(title)\n",
        "    if save_dir:\n",
        "      plt.savefig(save_dir, dpi=300)"
      ],
      "execution_count": 49,
      "outputs": []
    },
    {
      "cell_type": "code",
      "metadata": {
        "colab": {
          "base_uri": "https://localhost:8080/",
          "height": 388
        },
        "id": "4qunfwb6eAMu",
        "outputId": "82d9f6c4-7a47-4c2f-d5e8-dafc2e8f24ca"
      },
      "source": [
        "make_confusion_matrix(cm_test, figsize=(8,6), cbar=False, categories=class_names, save_dir='cm.png', sum_stats=False)"
      ],
      "execution_count": 50,
      "outputs": [
        {
          "output_type": "display_data",
          "data": {
            "image/png": "[encoded data removed]",
            "text/plain": [
              "<Figure size 576x432 with 1 Axes>"
            ]
          },
          "metadata": {
            "tags": [],
            "needs_background": "light"
          }
        }
      ]
    },
    {
      "cell_type": "code",
      "metadata": {
        "colab": {
          "base_uri": "https://localhost:8080/",
          "height": 547
        },
        "id": "gcLm9Va8UPZH",
        "outputId": "38892428-307d-4a36-b304-2c7526457ca7"
      },
      "source": [
        "from sklearn.preprocessing import LabelBinarizer\n",
        "from sklearn.metrics import roc_curve, auc, roc_auc_score\n",
        "\n",
        "\n",
        "# set plot figure size\n",
        "fig, c_ax = plt.subplots(1,1, figsize = (12, 8))\n",
        "\n",
        "\n",
        "# function for scoring roc auc score for multi-class\n",
        "def multiclass_roc_auc_score(y_test, y_pred, average=\"macro\"):\n",
        "    lb = LabelBinarizer()\n",
        "    lb.fit(y_test)\n",
        "    y_test = lb.transform(y_test)\n",
        "    y_pred = lb.transform(y_pred)\n",
        "\n",
        "    for (idx, c_label) in enumerate(class_names):\n",
        "        fpr, tpr, thresholds = roc_curve(y_test[:,idx].astype(int), y_pred[:,idx])\n",
        "        c_ax.plot(fpr, tpr, label = '%s (AUC:%0.2f)'  % (c_label, auc(fpr, tpr)))\n",
        "    c_ax.plot(fpr, fpr, '--', label = 'Random Guessing')\n",
        "    return roc_auc_score(y_test, y_pred, average=average)\n",
        "\n",
        "\n",
        "print(f'ROC AUC score: {multiclass_roc_auc_score(labels, predicted_classes)} \\n')\n",
        "\n",
        "c_ax.legend()\n",
        "c_ax.set_title('ROC Analysis')\n",
        "c_ax.set_xlabel('False Positive Rate')\n",
        "c_ax.set_ylabel('True Positive Rate')\n",
        "plt.savefig('roc.png', dpi=300)\n",
        "plt.show()\n"
      ],
      "execution_count": 53,
      "outputs": [
        {
          "output_type": "stream",
          "text": [
            "ROC AUC score: 0.9950223960000084 \n",
            "\n"
          ],
          "name": "stdout"
        },
        {
          "output_type": "display_data",
          "data": {
            "image/png": "[encoded data removed]",
            "text/plain": [
              "<Figure size 864x576 with 1 Axes>"
            ]
          },
          "metadata": {
            "tags": [],
            "needs_background": "light"
          }
        }
      ]
    },
    {
      "cell_type": "code",
      "metadata": {
        "colab": {
          "base_uri": "https://localhost:8080/"
        },
        "id": "aAdA0zfPXe5S",
        "outputId": "97061bb1-e6b5-4eba-d666-c5ff4e8f778f"
      },
      "source": [
        "print(f'metric name : [COVID, NORMAL, PNEUMONIA]')\n",
        "FP = cm_test.sum(axis=0) - np.diag(cm_test) \n",
        "FN = cm_test.sum(axis=1) - np.diag(cm_test)\n",
        "TP = np.diag(cm_test)\n",
        "TN = cm_test.sum() - (FP + FN + TP)\n",
        "FP = FP.astype(float)\n",
        "FN = FN.astype(float)\n",
        "TP = TP.astype(float)\n",
        "TN = TN.astype(float)\n",
        "print(f'False Positives: {FP}')\n",
        "print(f'False Negatives: {FN}')\n",
        "print(f'True Positives: {TP}')\n",
        "print(f'True Negatives: {TN}')\n",
        "\n",
        "# Sensitivity, hit rate, recall, or true positive rate\n",
        "TPR = TP/(TP+FN)\n",
        "print(f'Sensitivity, hit rate, recall, or true positive rate : {TPR}')\n",
        "# Specificity or true negative rate\n",
        "TNR = TN/(TN+FP) \n",
        "print(f'Specificity or true negative rate : {TNR}')\n",
        "# Precision or positive predictive value\n",
        "PPV = TP/(TP+FP)\n",
        "print(f'Precision or positive predictive value : {PPV}')\n",
        "# Negative predictive value\n",
        "NPV = TN/(TN+FN)\n",
        "print(f'Negative predictive value : {NPV}')\n",
        "# Fall out or false positive rate\n",
        "FPR = FP/(FP+TN)\n",
        "print(f'Fall out or false positive rate : {FPR}')\n",
        "# False negative rate\n",
        "FNR = FN/(TP+FN)\n",
        "print(f'False negative rate : {FNR}')\n",
        "# False discovery rate\n",
        "FDR = FP/(TP+FP)\n",
        "print(f'False discovery rate : {FDR}')\n",
        "# Overall accuracy for each class\n",
        "ACC = (TP+TN)/(TP+FP+FN+TN)\n",
        "print(f'Overall accuracy for each class : {ACC}')"
      ],
      "execution_count": 30,
      "outputs": [
        {
          "output_type": "stream",
          "text": [
            "metric name : [COVID, NORMAL, PNEUMONIA]\n",
            "False Positives: [7. 3. 0.]\n",
            "False Negatives: [3. 6. 1.]\n",
            "True Positives: [500. 496. 501.]\n",
            "True Negatives: [ 997. 1002. 1005.]\n",
            "Sensitivity, hit rate, recall, or true positive rate : [0.99403579 0.98804781 0.99800797]\n",
            "Specificity or true negative rate : [0.99302789 0.99701493 1.        ]\n",
            "Precision or positive predictive value : [0.98619329 0.99398798 1.        ]\n",
            "Negative predictive value : [0.997      0.99404762 0.99900596]\n",
            "Fall out or false positive rate : [0.00697211 0.00298507 0.        ]\n",
            "False negative rate : [0.00596421 0.01195219 0.00199203]\n",
            "False discovery rate : [0.01380671 0.00601202 0.        ]\n",
            "Overall accuracy for each class : [0.9933643  0.99402787 0.99933643]\n"
          ],
          "name": "stdout"
        }
      ]
    },
    {
      "cell_type": "code",
      "metadata": {
        "colab": {
          "base_uri": "https://localhost:8080/"
        },
        "id": "CvYAa43FXezg",
        "outputId": "1a38028f-d9f9-49c2-82c3-5250df1abe92"
      },
      "source": [
        "print(f\"Avg Accuracy {sum(ACC)/3}\")"
      ],
      "execution_count": 35,
      "outputs": [
        {
          "output_type": "stream",
          "text": [
            "Avg Accuracy 0.995576199955762\n"
          ],
          "name": "stdout"
        }
      ]
    },
    {
      "cell_type": "code",
      "metadata": {
        "colab": {
          "base_uri": "https://localhost:8080/"
        },
        "id": "m3JLyzajSKes",
        "outputId": "5257f144-eae7-4263-fa31-d2e136e5da7b"
      },
      "source": [
        "print(f\"Avg Specificity {sum(TNR)/3}\")"
      ],
      "execution_count": 36,
      "outputs": [
        {
          "output_type": "stream",
          "text": [
            "Avg Specificity 0.9966809379397832\n"
          ],
          "name": "stdout"
        }
      ]
    },
    {
      "cell_type": "code",
      "metadata": {
        "colab": {
          "base_uri": "https://localhost:8080/"
        },
        "id": "dRY-fOVGSfDI",
        "outputId": "e3ef3610-056d-4538-8f16-0481238b0be1"
      },
      "source": [
        "rec = sum(TPR)/3\n",
        "print(f\"Avg Sensitivity {rec}\")"
      ],
      "execution_count": 38,
      "outputs": [
        {
          "output_type": "stream",
          "text": [
            "Avg Sensitivity 0.9933638540602336\n"
          ],
          "name": "stdout"
        }
      ]
    },
    {
      "cell_type": "code",
      "metadata": {
        "colab": {
          "base_uri": "https://localhost:8080/"
        },
        "id": "qPF2KbTzSq5e",
        "outputId": "373b742f-6d5f-4577-ed08-76688f3194b3"
      },
      "source": [
        "pres = sum(PPV)/3\n",
        "print(f\"Avg Precision {pres}\")"
      ],
      "execution_count": 39,
      "outputs": [
        {
          "output_type": "stream",
          "text": [
            "Avg Precision 0.9933937566125017\n"
          ],
          "name": "stdout"
        }
      ]
    },
    {
      "cell_type": "code",
      "metadata": {
        "colab": {
          "base_uri": "https://localhost:8080/"
        },
        "id": "zXFg0AjbU_Ht",
        "outputId": "f40a8fb8-f9c8-4156-bdda-ab572bf0844a"
      },
      "source": [
        "c_f = 2*(PPV[0]*TPR[0])/(PPV[0]+TPR[0])\n",
        "n_f = 2*(PPV[1]*TPR[1])/(PPV[1]+TPR[1])\n",
        "p_f = 2*(PPV[2]*TPR[2])/(PPV[2]+TPR[2])\n",
        "f1_score = [c_f, n_f, p_f]\n",
        "print(f\"COVID F1-score {c_f}\")\n",
        "print(f\"NORMAL F1-score {n_f}\")\n",
        "print(f\"PNEUMONIA F1-score {p_f}\")"
      ],
      "execution_count": 44,
      "outputs": [
        {
          "output_type": "stream",
          "text": [
            "COVID F1-score 0.9900990099009902\n",
            "NORMAL F1-score 0.991008991008991\n",
            "PNEUMONIA F1-score 0.9990029910269193\n"
          ],
          "name": "stdout"
        }
      ]
    },
    {
      "cell_type": "code",
      "metadata": {
        "colab": {
          "base_uri": "https://localhost:8080/"
        },
        "id": "oAiu8o85Sqv_",
        "outputId": "0dd8b2e0-86e5-47a2-f67d-ea870153dbf6"
      },
      "source": [
        "f1 = 2*(pres*rec)/(pres+rec)\n",
        "print(f\"Avg F1-score {f1}\")"
      ],
      "execution_count": 41,
      "outputs": [
        {
          "output_type": "stream",
          "text": [
            "Avg F1-score 0.993378805111337\n"
          ],
          "name": "stdout"
        }
      ]
    },
    {
      "cell_type": "code",
      "metadata": {
        "id": "CR-g_TZeUQmQ"
      },
      "source": [
        "df = pd.DataFrame({\n",
        "    'Metric': ['Accuracy', 'Specificity', 'Sensitivity', 'F1-score'],\n",
        "    'COVID': [ACC[0], TNR[0], TPR[0], f1_score[0]],\n",
        "    'NORMAL': [ACC[1], TNR[1], TPR[1], f1_score[1]],\n",
        "    'PNEUMONIA': [ACC[2], TNR[2], TPR[2], f1_score[2]]\n",
        "})"
      ],
      "execution_count": 45,
      "outputs": []
    },
    {
      "cell_type": "code",
      "metadata": {
        "colab": {
          "base_uri": "https://localhost:8080/",
          "height": 674
        },
        "id": "dRIgIqPAUQkD",
        "outputId": "fc62476d-43eb-4800-ab9c-9d9faea5fc67"
      },
      "source": [
        "fig = df.plot(x=\"Metric\", y=['COVID', 'NORMAL', 'PNEUMONIA'], kind=\"bar\", figsize=(12,10), fontsize=15).get_figure()"
      ],
      "execution_count": 46,
      "outputs": [
        {
          "output_type": "display_data",
          "data": {
            "image/png": "[encoded data removed]",
            "text/plain": [
              "<Figure size 864x720 with 1 Axes>"
            ]
          },
          "metadata": {
            "tags": [],
            "needs_background": "light"
          }
        }
      ]
    },
    {
      "cell_type": "code",
      "metadata": {
        "id": "WyF08HUgUQhg"
      },
      "source": [
        "fig.savefig('perf_metrics.png')"
      ],
      "execution_count": 48,
      "outputs": []
    },
    {
      "cell_type": "code",
      "metadata": {
        "id": "TJMYL-aRn3XN"
      },
      "source": [
        ""
      ],
      "execution_count": null,
      "outputs": []
    }
  ]
}