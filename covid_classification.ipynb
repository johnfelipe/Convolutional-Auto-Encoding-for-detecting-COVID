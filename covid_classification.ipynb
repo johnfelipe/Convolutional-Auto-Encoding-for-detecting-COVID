{
  "nbformat": 4,
  "nbformat_minor": 0,
  "metadata": {
    "colab": {
      "name": "cae_covid_classification.ipynb",
      "provenance": [],
      "collapsed_sections": [],
      "include_colab_link": true
    },
    "kernelspec": {
      "name": "python3",
      "display_name": "Python 3"
    },
    "language_info": {
      "name": "python"
    },
    "accelerator": "GPU"
  },
  "cells": [
    {
      "cell_type": "markdown",
      "metadata": {
        "id": "view-in-github",
        "colab_type": "text"
      },
      "source": [
        "<a href=\"https://colab.research.google.com/github/saichandrapandraju/Convolutional-Auto-Encoding-for-detecting-COVID/blob/main/covid_classification.ipynb\" target=\"_parent\"><img src=\"https://colab.research.google.com/assets/colab-badge.svg\" alt=\"Open In Colab\"/></a>"
      ]
    },
    {
      "cell_type": "code",
      "metadata": {
        "colab": {
          "base_uri": "https://localhost:8080/"
        },
        "id": "0z_RDxtTyPhd",
        "outputId": "46175416-3214-416d-9a22-f0a227065f21"
      },
      "source": [
        "!nvidia-smi"
      ],
      "execution_count": 1,
      "outputs": [
        {
          "output_type": "stream",
          "text": [
            "Wed Jul 28 14:23:50 2021       \n",
            "+-----------------------------------------------------------------------------+\n",
            "| NVIDIA-SMI 470.42.01    Driver Version: 460.32.03    CUDA Version: 11.2     |\n",
            "|-------------------------------+----------------------+----------------------+\n",
            "| GPU  Name        Persistence-M| Bus-Id        Disp.A | Volatile Uncorr. ECC |\n",
            "| Fan  Temp  Perf  Pwr:Usage/Cap|         Memory-Usage | GPU-Util  Compute M. |\n",
            "|                               |                      |               MIG M. |\n",
            "|===============================+======================+======================|\n",
            "|   0  Tesla K80           Off  | 00000000:00:04.0 Off |                    0 |\n",
            "| N/A   73C    P8    33W / 149W |      0MiB / 11441MiB |      0%      Default |\n",
            "|                               |                      |                  N/A |\n",
            "+-------------------------------+----------------------+----------------------+\n",
            "                                                                               \n",
            "+-----------------------------------------------------------------------------+\n",
            "| Processes:                                                                  |\n",
            "|  GPU   GI   CI        PID   Type   Process name                  GPU Memory |\n",
            "|        ID   ID                                                   Usage      |\n",
            "|=============================================================================|\n",
            "|  No running processes found                                                 |\n",
            "+-----------------------------------------------------------------------------+\n"
          ],
          "name": "stdout"
        }
      ]
    },
    {
      "cell_type": "code",
      "metadata": {
        "colab": {
          "base_uri": "https://localhost:8080/"
        },
        "id": "PrAmDpbYzIyx",
        "outputId": "70bfa30e-2af6-46d4-f44d-599bb7094184"
      },
      "source": [
        "from google.colab import drive\n",
        "drive.mount('/content/drive')"
      ],
      "execution_count": 2,
      "outputs": [
        {
          "output_type": "stream",
          "text": [
            "Mounted at /content/drive\n"
          ],
          "name": "stdout"
        }
      ]
    },
    {
      "cell_type": "code",
      "metadata": {
        "id": "mk2kb2kjzNZU"
      },
      "source": [
        "from tqdm.notebook import tqdm_notebook\n",
        "import tensorflow as tf\n",
        "import zipfile\n",
        "import glob\n",
        "import numpy as np\n",
        "import pandas as pd\n",
        "from sklearn.model_selection import train_test_split\n",
        "from sklearn import metrics\n",
        "import matplotlib.pyplot as plt\n",
        "import seaborn as sns\n",
        "import os\n",
        "import random\n",
        "import shutil"
      ],
      "execution_count": 3,
      "outputs": []
    },
    {
      "cell_type": "code",
      "metadata": {
        "id": "OQ4ggzE4zUKN"
      },
      "source": [
        "tf.random.set_seed(1)\n",
        "random.seed(1)\n",
        "np.random.seed(1)"
      ],
      "execution_count": 4,
      "outputs": []
    },
    {
      "cell_type": "code",
      "metadata": {
        "colab": {
          "base_uri": "https://localhost:8080/"
        },
        "id": "GtSBTgCVzmpA",
        "outputId": "5bdde2a2-64d3-4d00-bd31-c9897d98297e"
      },
      "source": [
        "!wget \"https://storage.googleapis.com/cae_covid_classification/covid_normal_pneumonia.zip\""
      ],
      "execution_count": 5,
      "outputs": [
        {
          "output_type": "stream",
          "text": [
            "--2021-07-28 14:24:44--  https://storage.googleapis.com/cae_covid_classification/covid_normal_pneumonia.zip\n",
            "Resolving storage.googleapis.com (storage.googleapis.com)... 142.251.5.128, 74.125.206.128, 64.233.184.128, ...\n",
            "Connecting to storage.googleapis.com (storage.googleapis.com)|142.251.5.128|:443... connected.\n",
            "HTTP request sent, awaiting response... 200 OK\n",
            "Length: 815753304 (778M) [application/x-zip-compressed]\n",
            "Saving to: ‘covid_normal_pneumonia.zip’\n",
            "\n",
            "covid_normal_pneumo 100%[===================>] 777.96M  41.2MB/s    in 20s     \n",
            "\n",
            "2021-07-28 14:25:05 (38.6 MB/s) - ‘covid_normal_pneumonia.zip’ saved [815753304/815753304]\n",
            "\n"
          ],
          "name": "stdout"
        }
      ]
    },
    {
      "cell_type": "code",
      "metadata": {
        "id": "PzLluOqhz5So"
      },
      "source": [
        "!unzip -q covid_normal_pneumonia.zip"
      ],
      "execution_count": 6,
      "outputs": []
    },
    {
      "cell_type": "code",
      "metadata": {
        "colab": {
          "base_uri": "https://localhost:8080/"
        },
        "id": "k9Ggr3Hhzmm8",
        "outputId": "c08a7bca-7004-47c1-8838-62fe00523455"
      },
      "source": [
        "total_covid = len(os.listdir('covid_normal_pneumonia/COVID/'))\n",
        "total_normal = len(os.listdir('covid_normal_pneumonia/NORMAL/'))\n",
        "total_pneumonia = len(os.listdir('covid_normal_pneumonia/PNEUMONIA/'))\n",
        "print('covid_count : {} | normal_count : {} | pneumonia_count : {}'.format( str(total_covid),str(total_normal),str(total_pneumonia)) )"
      ],
      "execution_count": 7,
      "outputs": [
        {
          "output_type": "stream",
          "text": [
            "covid_count : 3709 | normal_count : 3700 | pneumonia_count : 3700\n"
          ],
          "name": "stdout"
        }
      ]
    },
    {
      "cell_type": "code",
      "metadata": {
        "colab": {
          "base_uri": "https://localhost:8080/"
        },
        "id": "2iNe44wjzmj_",
        "outputId": "7ddf19a1-f01d-4b2b-f60f-bbb7da85e8af"
      },
      "source": [
        "try:\n",
        "    os.system(\"rm -rf ./split_data\")\n",
        "    os.mkdir('split_data')\n",
        "    os.mkdir('split_data/train')\n",
        "    os.mkdir('split_data/valid_test')\n",
        "    os.mkdir('split_data/valid')\n",
        "    os.mkdir('split_data/test')\n",
        "\n",
        "    os.mkdir('split_data/train/COVID')\n",
        "    os.mkdir('split_data/train/NORMAL')\n",
        "    os.mkdir('split_data/train/PNEUMONIA')\n",
        "\n",
        "    os.mkdir('split_data/valid_test/COVID')\n",
        "    os.mkdir('split_data/valid_test/NORMAL')\n",
        "    os.mkdir('split_data/valid_test/PNEUMONIA')\n",
        "\n",
        "    os.mkdir('split_data/valid/COVID')\n",
        "    os.mkdir('split_data/valid/NORMAL')\n",
        "    os.mkdir('split_data/valid/PNEUMONIA')\n",
        "\n",
        "    os.mkdir('split_data/test/COVID')\n",
        "    os.mkdir('split_data/test/NORMAL')\n",
        "    os.mkdir('split_data/test/PNEUMONIA')\n",
        "    print('created directories')\n",
        "except OSError as e:\n",
        "    print('OS error occurred', e)"
      ],
      "execution_count": 8,
      "outputs": [
        {
          "output_type": "stream",
          "text": [
            "created directories\n"
          ],
          "name": "stdout"
        }
      ]
    },
    {
      "cell_type": "code",
      "metadata": {
        "id": "7yuMNj3wzmhW"
      },
      "source": [
        "def split_data(source, training, testing, split_ratio):\n",
        "  threshold = len(os.listdir(source)) * split_ratio\n",
        "  flag = 0\n",
        "  for i in random.sample(os.listdir(source), len(os.listdir(source))):\n",
        "    flag += 1\n",
        "    if flag <= threshold:\n",
        "      if os.path.getsize(source + i) > 0:\n",
        "        shutil.copyfile(source + i, training + i)\n",
        "      else:\n",
        "        print(source + i + \" is zero length, so ignoring\")\n",
        "    else:\n",
        "      if os.path.getsize(source + i) > 0:\n",
        "        shutil.copyfile(source + i, testing + i)\n",
        "      else:\n",
        "        print(source + i + \" is zero length, so ignoring\")"
      ],
      "execution_count": 9,
      "outputs": []
    },
    {
      "cell_type": "code",
      "metadata": {
        "id": "34mgbtJ20G7D"
      },
      "source": [
        "COVID_SOURCE_DIR = 'covid_normal_pneumonia/COVID/'\n",
        "NORMAL_SOURCE_DIR = 'covid_normal_pneumonia/NORMAL/'\n",
        "PNEUMONIA_SOURCE_DIR = 'covid_normal_pneumonia/PNEUMONIA/'\n",
        "\n",
        "TRAINING_COVID_DIR = 'split_data/train/COVID/'\n",
        "VALID_TEST_COVID_DIR = 'split_data/valid_test/COVID/'\n",
        "VALIDATING_COVID_DIR = 'split_data/valid/COVID/'\n",
        "TESTING_COVID_DIR = 'split_data/test/COVID/'\n",
        "\n",
        "TRAINING_NORMAL_DIR = 'split_data/train/NORMAL/'\n",
        "VALID_TEST_NORMAL_DIR = 'split_data/valid_test/NORMAL/'\n",
        "VALIDATING_NORMAL_DIR = 'split_data/valid/NORMAL/'\n",
        "TESTING_NORMAL_DIR = 'split_data/test/NORMAL/'\n",
        "\n",
        "TRAINING_PNEUMONIA_DIR = 'split_data/train/PNEUMONIA/'\n",
        "VALID_TEST_PNEUMONIA_DIR = 'split_data/valid_test/PNEUMONIA/'\n",
        "VALIDATING_PNEUMONIA_DIR = 'split_data/valid/PNEUMONIA/'\n",
        "TESTING_PNEUMONIA_DIR = 'split_data/test/PNEUMONIA/'"
      ],
      "execution_count": 10,
      "outputs": []
    },
    {
      "cell_type": "code",
      "metadata": {
        "id": "KWElpnl80G4i"
      },
      "source": [
        "split_data(COVID_SOURCE_DIR, TRAINING_COVID_DIR, VALID_TEST_COVID_DIR, 0.729)\n",
        "split_data(VALID_TEST_COVID_DIR, VALIDATING_COVID_DIR, TESTING_COVID_DIR, 0.5)"
      ],
      "execution_count": 11,
      "outputs": []
    },
    {
      "cell_type": "code",
      "metadata": {
        "colab": {
          "base_uri": "https://localhost:8080/"
        },
        "id": "qDL4S89y0G2y",
        "outputId": "813591b0-3620-4bed-fe8b-1ef4f74e6d10"
      },
      "source": [
        "tr_c = len(os.listdir(TRAINING_COVID_DIR))\n",
        "vl_c = len(os.listdir(VALIDATING_COVID_DIR))\n",
        "tst_c = len(os.listdir(TESTING_COVID_DIR))\n",
        "print('covid_train count : {} | covid_valid count : {} | covid_test count : {}'.format( str(tr_c),str(vl_c),str(tst_c)) )"
      ],
      "execution_count": 12,
      "outputs": [
        {
          "output_type": "stream",
          "text": [
            "covid_train count : 2703 | covid_valid count : 503 | covid_test count : 503\n"
          ],
          "name": "stdout"
        }
      ]
    },
    {
      "cell_type": "code",
      "metadata": {
        "id": "ZBWX53hx0G0d"
      },
      "source": [
        "split_data(NORMAL_SOURCE_DIR, TRAINING_NORMAL_DIR, VALID_TEST_NORMAL_DIR, 0.729)\n",
        "split_data(VALID_TEST_NORMAL_DIR, VALIDATING_NORMAL_DIR, TESTING_NORMAL_DIR, 0.5)"
      ],
      "execution_count": 13,
      "outputs": []
    },
    {
      "cell_type": "code",
      "metadata": {
        "colab": {
          "base_uri": "https://localhost:8080/"
        },
        "id": "lk7H4G9B3uFo",
        "outputId": "42dd9ccc-9611-447c-bc5f-f6326d176779"
      },
      "source": [
        "tr_n = len(os.listdir(TRAINING_NORMAL_DIR))\n",
        "vl_n = len(os.listdir(VALIDATING_NORMAL_DIR))\n",
        "tst_n = len(os.listdir(TESTING_NORMAL_DIR))\n",
        "print('normal_train count : {} | normal_valid count : {} | normal_test count : {}'.format( str(tr_n),str(vl_n),str(tst_n)) )"
      ],
      "execution_count": 14,
      "outputs": [
        {
          "output_type": "stream",
          "text": [
            "normal_train count : 2697 | normal_valid count : 501 | normal_test count : 502\n"
          ],
          "name": "stdout"
        }
      ]
    },
    {
      "cell_type": "code",
      "metadata": {
        "id": "StIQ2L1Z3EaX"
      },
      "source": [
        "split_data(PNEUMONIA_SOURCE_DIR, TRAINING_PNEUMONIA_DIR, VALID_TEST_PNEUMONIA_DIR, 0.729)\n",
        "split_data(VALID_TEST_PNEUMONIA_DIR, VALIDATING_PNEUMONIA_DIR, TESTING_PNEUMONIA_DIR, 0.5)"
      ],
      "execution_count": 15,
      "outputs": []
    },
    {
      "cell_type": "code",
      "metadata": {
        "colab": {
          "base_uri": "https://localhost:8080/"
        },
        "id": "8krPm1oo37Np",
        "outputId": "8ae8ab33-f29d-41ed-956d-7fe0da679324"
      },
      "source": [
        "tr_p = len(os.listdir(TRAINING_PNEUMONIA_DIR))\n",
        "vl_p = len(os.listdir(VALIDATING_PNEUMONIA_DIR))\n",
        "tst_p = len(os.listdir(TESTING_PNEUMONIA_DIR))\n",
        "print('pneumonia_train count : {} | pneumonia_valid count : {} | pneumonia_test count : {}'.format( str(tr_p),str(vl_p),str(tst_p)) )"
      ],
      "execution_count": 16,
      "outputs": [
        {
          "output_type": "stream",
          "text": [
            "pneumonia_train count : 2697 | pneumonia_valid count : 501 | pneumonia_test count : 502\n"
          ],
          "name": "stdout"
        }
      ]
    },
    {
      "cell_type": "code",
      "metadata": {
        "colab": {
          "base_uri": "https://localhost:8080/"
        },
        "id": "AExseRUADkUf",
        "outputId": "10686f32-e417-4b3d-dbb9-86cc0762eda9"
      },
      "source": [
        "TRAINING_DIR = 'split_data/train/'\n",
        "train_datagen = tf.keras.preprocessing.image.ImageDataGenerator(rescale=1 / 255.0)\n",
        "train_generator = train_datagen.flow_from_directory(TRAINING_DIR,\n",
        "                                                    target_size=(224, 224),\n",
        "                                                    class_mode='categorical',\n",
        "                                                    shuffle=True,\n",
        "                                                    batch_size=16)\n",
        "\n",
        "VALIDATING_DIR = 'split_data/valid/'\n",
        "valid_datagen = tf.keras.preprocessing.image.ImageDataGenerator(rescale=1 / 255.0)\n",
        "valid_generator = valid_datagen.flow_from_directory(VALIDATING_DIR,\n",
        "                                                    target_size=(224, 224),\n",
        "                                                    class_mode='categorical',\n",
        "                                                    shuffle=False,\n",
        "                                                    batch_size=16)"
      ],
      "execution_count": 17,
      "outputs": [
        {
          "output_type": "stream",
          "text": [
            "Found 8097 images belonging to 3 classes.\n",
            "Found 1505 images belonging to 3 classes.\n"
          ],
          "name": "stdout"
        }
      ]
    },
    {
      "cell_type": "code",
      "metadata": {
        "id": "u5K7mJ374i5E"
      },
      "source": [
        "cae_model = tf.keras.models.load_model('/content/drive/MyDrive/pretrain_cae/cae.h5')"
      ],
      "execution_count": 18,
      "outputs": []
    },
    {
      "cell_type": "code",
      "metadata": {
        "id": "5_p6Him844fq"
      },
      "source": [
        "for layer in cae_model.layers[0].layers:\n",
        "  layer.trainable = False"
      ],
      "execution_count": 19,
      "outputs": []
    },
    {
      "cell_type": "code",
      "metadata": {
        "colab": {
          "base_uri": "https://localhost:8080/"
        },
        "id": "8FbNwUrH_sLL",
        "outputId": "6bb7e37c-cbac-4117-fc07-1b78cab8a7fa"
      },
      "source": [
        "for batch, label in train_generator:\n",
        "  print(batch.shape)\n",
        "   # values should be in `[0,1]`.\n",
        "  print(np.min(batch[0]), np.max(batch[0]))\n",
        "  break\n"
      ],
      "execution_count": 20,
      "outputs": [
        {
          "output_type": "stream",
          "text": [
            "(16, 224, 224, 3)\n",
            "0.0 1.0\n"
          ],
          "name": "stdout"
        }
      ]
    },
    {
      "cell_type": "code",
      "metadata": {
        "id": "ynAEb6au48An"
      },
      "source": [
        "enc_out = cae_model.layers[0].output"
      ],
      "execution_count": 21,
      "outputs": []
    },
    {
      "cell_type": "code",
      "metadata": {
        "id": "ZKXspdhp4938"
      },
      "source": [
        "y = tf.keras.layers.Reshape((49,512))(enc_out)\n",
        "y = tf.keras.layers.LSTM(512, return_sequences=True)(y)\n",
        "y = tf.keras.layers.Flatten()(y)\n",
        "y = tf.keras.layers.Dense(64, activation='relu')(y)\n",
        "y = tf.keras.layers.Dense(3, activation='softmax')(y)"
      ],
      "execution_count": 22,
      "outputs": []
    },
    {
      "cell_type": "code",
      "metadata": {
        "id": "FM2kzTnC5DF8"
      },
      "source": [
        "classification = tf.keras.Model(cae_model.layers[0].input, y)"
      ],
      "execution_count": 23,
      "outputs": []
    },
    {
      "cell_type": "code",
      "metadata": {
        "colab": {
          "base_uri": "https://localhost:8080/"
        },
        "id": "Q0bVhvOU5N5t",
        "outputId": "e2398760-f3bc-4403-a3f4-15ca7bd5d23c"
      },
      "source": [
        "classification.summary()"
      ],
      "execution_count": 24,
      "outputs": [
        {
          "output_type": "stream",
          "text": [
            "Model: \"model\"\n",
            "_________________________________________________________________\n",
            "Layer (type)                 Output Shape              Param #   \n",
            "=================================================================\n",
            "input_1 (InputLayer)         [(None, 224, 224, 3)]     0         \n",
            "_________________________________________________________________\n",
            "conv2d (Conv2D)              (None, 224, 224, 64)      1792      \n",
            "_________________________________________________________________\n",
            "conv2d_1 (Conv2D)            (None, 224, 224, 64)      36928     \n",
            "_________________________________________________________________\n",
            "max_pooling2d (MaxPooling2D) (None, 112, 112, 64)      0         \n",
            "_________________________________________________________________\n",
            "conv2d_2 (Conv2D)            (None, 112, 112, 128)     73856     \n",
            "_________________________________________________________________\n",
            "max_pooling2d_1 (MaxPooling2 (None, 56, 56, 128)       0         \n",
            "_________________________________________________________________\n",
            "conv2d_3 (Conv2D)            (None, 56, 56, 256)       295168    \n",
            "_________________________________________________________________\n",
            "max_pooling2d_2 (MaxPooling2 (None, 28, 28, 256)       0         \n",
            "_________________________________________________________________\n",
            "conv2d_4 (Conv2D)            (None, 28, 28, 512)       1180160   \n",
            "_________________________________________________________________\n",
            "max_pooling2d_3 (MaxPooling2 (None, 14, 14, 512)       0         \n",
            "_________________________________________________________________\n",
            "conv2d_5 (Conv2D)            (None, 14, 14, 512)       2359808   \n",
            "_________________________________________________________________\n",
            "max_pooling2d_4 (MaxPooling2 (None, 7, 7, 512)         0         \n",
            "_________________________________________________________________\n",
            "reshape (Reshape)            (None, 49, 512)           0         \n",
            "_________________________________________________________________\n",
            "lstm (LSTM)                  (None, 49, 512)           2099200   \n",
            "_________________________________________________________________\n",
            "flatten (Flatten)            (None, 25088)             0         \n",
            "_________________________________________________________________\n",
            "dense (Dense)                (None, 64)                1605696   \n",
            "_________________________________________________________________\n",
            "dense_1 (Dense)              (None, 3)                 195       \n",
            "=================================================================\n",
            "Total params: 7,652,803\n",
            "Trainable params: 3,705,091\n",
            "Non-trainable params: 3,947,712\n",
            "_________________________________________________________________\n"
          ],
          "name": "stdout"
        }
      ]
    },
    {
      "cell_type": "code",
      "metadata": {
        "id": "vHAduELH5OrA"
      },
      "source": [
        "classification.compile(optimizer='adam', loss='categorical_crossentropy', metrics=['accuracy'])"
      ],
      "execution_count": 25,
      "outputs": []
    },
    {
      "cell_type": "code",
      "metadata": {
        "id": "10R1ALmY5OoQ"
      },
      "source": [
        "early_stopping_cb = tf.keras.callbacks.EarlyStopping(monitor='val_loss', patience=5, mode='auto')"
      ],
      "execution_count": 26,
      "outputs": []
    },
    {
      "cell_type": "code",
      "metadata": {
        "id": "BiP5smLC5Omi"
      },
      "source": [
        "checkpoint_cb = tf.keras.callbacks.ModelCheckpoint('/content/drive/MyDrive/covid_classification/covid_classification.h5', save_best_only=True)"
      ],
      "execution_count": 27,
      "outputs": []
    },
    {
      "cell_type": "code",
      "metadata": {
        "id": "rJATMZrpaQBb"
      },
      "source": [
        "epochs = 20"
      ],
      "execution_count": 28,
      "outputs": []
    },
    {
      "cell_type": "code",
      "metadata": {
        "colab": {
          "base_uri": "https://localhost:8080/"
        },
        "id": "xpDd0gYs5Ojd",
        "outputId": "b80cf001-2d89-445d-c9d2-d46863959440"
      },
      "source": [
        "history = classification.fit(train_generator,\n",
        "                             epochs=epochs,\n",
        "                             validation_data=valid_generator,\n",
        "                             callbacks=[early_stopping_cb, checkpoint_cb])"
      ],
      "execution_count": 29,
      "outputs": [
        {
          "output_type": "stream",
          "text": [
            "Epoch 1/20\n",
            "507/507 [==============================] - 96s 124ms/step - loss: 0.3463 - accuracy: 0.8539 - val_loss: 0.2020 - val_accuracy: 0.9316\n",
            "Epoch 2/20\n",
            "507/507 [==============================] - 62s 122ms/step - loss: 0.1601 - accuracy: 0.9402 - val_loss: 0.1361 - val_accuracy: 0.9535\n",
            "Epoch 3/20\n",
            "507/507 [==============================] - 62s 123ms/step - loss: 0.1101 - accuracy: 0.9616 - val_loss: 0.1081 - val_accuracy: 0.9628\n",
            "Epoch 4/20\n",
            "507/507 [==============================] - 63s 124ms/step - loss: 0.0928 - accuracy: 0.9667 - val_loss: 0.1276 - val_accuracy: 0.9502\n",
            "Epoch 5/20\n",
            "507/507 [==============================] - 62s 123ms/step - loss: 0.0659 - accuracy: 0.9774 - val_loss: 0.1217 - val_accuracy: 0.9581\n",
            "Epoch 6/20\n",
            "507/507 [==============================] - 62s 122ms/step - loss: 0.0556 - accuracy: 0.9810 - val_loss: 0.1283 - val_accuracy: 0.9588\n",
            "Epoch 7/20\n",
            "507/507 [==============================] - 62s 122ms/step - loss: 0.0446 - accuracy: 0.9843 - val_loss: 0.0935 - val_accuracy: 0.9674\n",
            "Epoch 8/20\n",
            "507/507 [==============================] - 62s 123ms/step - loss: 0.0293 - accuracy: 0.9907 - val_loss: 0.1044 - val_accuracy: 0.9668\n",
            "Epoch 9/20\n",
            "507/507 [==============================] - 63s 124ms/step - loss: 0.0303 - accuracy: 0.9879 - val_loss: 0.1041 - val_accuracy: 0.9641\n",
            "Epoch 10/20\n",
            "507/507 [==============================] - 63s 124ms/step - loss: 0.0255 - accuracy: 0.9905 - val_loss: 0.1234 - val_accuracy: 0.9648\n",
            "Epoch 11/20\n",
            "507/507 [==============================] - 62s 122ms/step - loss: 0.0162 - accuracy: 0.9946 - val_loss: 0.1346 - val_accuracy: 0.9641\n",
            "Epoch 12/20\n",
            "507/507 [==============================] - 62s 122ms/step - loss: 0.0144 - accuracy: 0.9948 - val_loss: 0.1297 - val_accuracy: 0.9668\n"
          ],
          "name": "stdout"
        }
      ]
    },
    {
      "cell_type": "code",
      "metadata": {
        "id": "h77O_EreJsTJ",
        "colab": {
          "base_uri": "https://localhost:8080/"
        },
        "outputId": "dd34514a-3522-46cd-f93c-5df693e5bb95"
      },
      "source": [
        "history.history"
      ],
      "execution_count": 30,
      "outputs": [
        {
          "output_type": "execute_result",
          "data": {
            "text/plain": [
              "{'accuracy': [0.8538964986801147,\n",
              "  0.9402247667312622,\n",
              "  0.9615907073020935,\n",
              "  0.9666543006896973,\n",
              "  0.9773990511894226,\n",
              "  0.980980634689331,\n",
              "  0.9843151569366455,\n",
              "  0.9907373189926147,\n",
              "  0.987896740436554,\n",
              "  0.9904903173446655,\n",
              "  0.9945659041404724,\n",
              "  0.9948129057884216],\n",
              " 'loss': [0.3463418185710907,\n",
              "  0.16013020277023315,\n",
              "  0.11011523753404617,\n",
              "  0.09283505380153656,\n",
              "  0.06586086750030518,\n",
              "  0.05556926876306534,\n",
              "  0.04464702308177948,\n",
              "  0.02927277982234955,\n",
              "  0.03030536137521267,\n",
              "  0.02553548663854599,\n",
              "  0.016210051253437996,\n",
              "  0.014410680159926414],\n",
              " 'val_accuracy': [0.9315614700317383,\n",
              "  0.9534883499145508,\n",
              "  0.9627906680107117,\n",
              "  0.9501661062240601,\n",
              "  0.9581395387649536,\n",
              "  0.9588040113449097,\n",
              "  0.9674418568611145,\n",
              "  0.9667773842811584,\n",
              "  0.9641196131706238,\n",
              "  0.9647840261459351,\n",
              "  0.9641196131706238,\n",
              "  0.9667773842811584],\n",
              " 'val_loss': [0.20199859142303467,\n",
              "  0.13606096804141998,\n",
              "  0.10811160504817963,\n",
              "  0.12756815552711487,\n",
              "  0.12167493999004364,\n",
              "  0.12825720012187958,\n",
              "  0.09345319867134094,\n",
              "  0.10443942248821259,\n",
              "  0.10405254364013672,\n",
              "  0.12340038269758224,\n",
              "  0.13456220924854279,\n",
              "  0.1296951174736023]}"
            ]
          },
          "metadata": {
            "tags": []
          },
          "execution_count": 30
        }
      ]
    },
    {
      "cell_type": "code",
      "metadata": {
        "id": "OzFahzRqg4zy"
      },
      "source": [
        "classification = tf.keras.models.load_model('/content/drive/MyDrive/covid_classification/covid_classification.h5')  ## load best model"
      ],
      "execution_count": 31,
      "outputs": []
    },
    {
      "cell_type": "code",
      "metadata": {
        "id": "LXzMWEmPJzg5",
        "colab": {
          "base_uri": "https://localhost:8080/",
          "height": 497
        },
        "outputId": "62758326-4de8-44ba-a414-e00339e19baf"
      },
      "source": [
        "acc = history.history['accuracy']\n",
        "val_acc = history.history['val_accuracy']\n",
        "\n",
        "loss = history.history['loss']\n",
        "val_loss = history.history['val_loss']\n",
        "\n",
        "epochs_range = range(len(acc))\n",
        "\n",
        "plt.figure(figsize=(8, 8))\n",
        "# plt.subplot(1, 2, 1)\n",
        "plt.plot(epochs_range, acc, label='Training')\n",
        "plt.plot(epochs_range, val_acc, label='Validation')\n",
        "plt.legend(loc='best')\n",
        "plt.xlabel('Number of epochs')\n",
        "plt.ylabel('Accuracy')\n",
        "plt.savefig('/content/drive/MyDrive/covid_classification/accuracy.png', dpi=300)\n",
        "plt.show()\n",
        "\n",
        "# plt.subplot(1, 2, 2)"
      ],
      "execution_count": 35,
      "outputs": [
        {
          "output_type": "display_data",
          "data": {
            "image/png": "[encoded data removed]",
            "text/plain": [
              "<Figure size 576x576 with 1 Axes>"
            ]
          },
          "metadata": {
            "tags": [],
            "needs_background": "light"
          }
        }
      ]
    },
    {
      "cell_type": "code",
      "metadata": {
        "colab": {
          "base_uri": "https://localhost:8080/",
          "height": 497
        },
        "id": "vvkQDH0SZVA_",
        "outputId": "635e1551-801d-4c67-d1cf-a30646ee5b51"
      },
      "source": [
        "plt.figure(figsize=(8, 8))\n",
        "plt.plot(epochs_range, loss, label='Training')\n",
        "plt.plot(epochs_range, val_loss, label='Validation')\n",
        "plt.legend(loc='best')\n",
        "plt.xlabel('Number of epochs')\n",
        "plt.ylabel('Loss')\n",
        "plt.savefig('/content/drive/MyDrive/covid_classification/loss.png', dpi=300)\n",
        "plt.show()"
      ],
      "execution_count": 36,
      "outputs": [
        {
          "output_type": "display_data",
          "data": {
            "image/png": "[encoded data removed]",
            "text/plain": [
              "<Figure size 576x576 with 1 Axes>"
            ]
          },
          "metadata": {
            "tags": [],
            "needs_background": "light"
          }
        }
      ]
    },
    {
      "cell_type": "code",
      "metadata": {
        "id": "sOtTNAltg2lK"
      },
      "source": [
        "for i in classification.layers:\n",
        "  i.trainable=True"
      ],
      "execution_count": 37,
      "outputs": []
    },
    {
      "cell_type": "code",
      "metadata": {
        "id": "70YkX35giHs_"
      },
      "source": [
        "classification.compile(optimizer=tf.keras.optimizers.Adam(learning_rate=1e-5), loss='categorical_crossentropy', metrics=['accuracy'])"
      ],
      "execution_count": 38,
      "outputs": []
    },
    {
      "cell_type": "code",
      "metadata": {
        "colab": {
          "base_uri": "https://localhost:8080/"
        },
        "id": "O4D4AkHahHOU",
        "outputId": "3ef53660-f7af-4d3c-faca-b3d1b35eea7a"
      },
      "source": [
        "history_unfreeze = classification.fit(train_generator,\n",
        "                              epochs=epochs,\n",
        "                              validation_data=valid_generator,\n",
        "                              callbacks=[early_stopping_cb, checkpoint_cb])"
      ],
      "execution_count": 39,
      "outputs": [
        {
          "output_type": "stream",
          "text": [
            "Epoch 1/20\n",
            "507/507 [==============================] - 131s 248ms/step - loss: 0.0146 - accuracy: 0.9959 - val_loss: 0.0836 - val_accuracy: 0.9754\n",
            "Epoch 2/20\n",
            "507/507 [==============================] - 125s 247ms/step - loss: 0.0077 - accuracy: 0.9988 - val_loss: 0.0876 - val_accuracy: 0.9748\n",
            "Epoch 3/20\n",
            "507/507 [==============================] - 125s 246ms/step - loss: 0.0051 - accuracy: 0.9990 - val_loss: 0.0914 - val_accuracy: 0.9748\n",
            "Epoch 4/20\n",
            "507/507 [==============================] - 125s 246ms/step - loss: 0.0029 - accuracy: 0.9999 - val_loss: 0.0976 - val_accuracy: 0.9741\n",
            "Epoch 5/20\n",
            "507/507 [==============================] - 125s 246ms/step - loss: 0.0018 - accuracy: 0.9999 - val_loss: 0.1086 - val_accuracy: 0.9734\n",
            "Epoch 6/20\n",
            "507/507 [==============================] - 125s 246ms/step - loss: 0.0012 - accuracy: 1.0000 - val_loss: 0.1084 - val_accuracy: 0.9741\n"
          ],
          "name": "stdout"
        }
      ]
    },
    {
      "cell_type": "code",
      "metadata": {
        "colab": {
          "base_uri": "https://localhost:8080/"
        },
        "id": "bALcJ9x3hOyp",
        "outputId": "b6516caa-71b7-490f-aa33-39c7eff9986e"
      },
      "source": [
        "history_unfreeze.history"
      ],
      "execution_count": 40,
      "outputs": [
        {
          "output_type": "execute_result",
          "data": {
            "text/plain": [
              "{'accuracy': [0.9959244132041931,\n",
              "  0.9987649917602539,\n",
              "  0.9990119934082031,\n",
              "  0.9998764991760254,\n",
              "  0.9998764991760254,\n",
              "  1.0],\n",
              " 'loss': [0.014621119946241379,\n",
              "  0.007722055073827505,\n",
              "  0.005074790678918362,\n",
              "  0.0029331627301871777,\n",
              "  0.0018061388982459903,\n",
              "  0.0011915949871763587],\n",
              " 'val_accuracy': [0.9754152894020081,\n",
              "  0.974750816822052,\n",
              "  0.974750816822052,\n",
              "  0.9740864038467407,\n",
              "  0.9734219312667847,\n",
              "  0.9740864038467407],\n",
              " 'val_loss': [0.08355965465307236,\n",
              "  0.08761017769575119,\n",
              "  0.09140530973672867,\n",
              "  0.09757844358682632,\n",
              "  0.1085851863026619,\n",
              "  0.10841714590787888]}"
            ]
          },
          "metadata": {
            "tags": []
          },
          "execution_count": 40
        }
      ]
    },
    {
      "cell_type": "code",
      "metadata": {
        "colab": {
          "base_uri": "https://localhost:8080/",
          "height": 497
        },
        "id": "rk1bbn8zhj3c",
        "outputId": "4c3f1cc7-7517-47f2-becf-4f614d8c9ded"
      },
      "source": [
        "acc = history_unfreeze.history['accuracy']\n",
        "val_acc = history_unfreeze.history['val_accuracy']\n",
        "\n",
        "loss = history_unfreeze.history['loss']\n",
        "val_loss = history_unfreeze.history['val_loss']\n",
        "\n",
        "epochs_range = range(len(acc))\n",
        "\n",
        "plt.figure(figsize=(8, 8))\n",
        "# plt.subplot(1, 2, 1)\n",
        "plt.plot(epochs_range, acc, label='Training')\n",
        "plt.plot(epochs_range, val_acc, label='Validation')\n",
        "plt.legend(loc='best')\n",
        "plt.xlabel('Number of epochs')\n",
        "plt.ylabel('Accuracy')\n",
        "plt.savefig('/content/drive/MyDrive/covid_classification/accuracy_unfreeze.png', dpi=300)\n",
        "plt.show()\n",
        "\n",
        "# plt.subplot(1, 2, 2)"
      ],
      "execution_count": 42,
      "outputs": [
        {
          "output_type": "display_data",
          "data": {
            "image/png": "[encoded data removed]",
            "text/plain": [
              "<Figure size 576x576 with 1 Axes>"
            ]
          },
          "metadata": {
            "tags": [],
            "needs_background": "light"
          }
        }
      ]
    },
    {
      "cell_type": "code",
      "metadata": {
        "colab": {
          "base_uri": "https://localhost:8080/",
          "height": 497
        },
        "id": "uBvmRDjahveF",
        "outputId": "9d3026a7-b95c-4125-9cf4-95e34ece38c3"
      },
      "source": [
        "plt.figure(figsize=(8, 8))\n",
        "plt.plot(epochs_range, loss, label='Training')\n",
        "plt.plot(epochs_range, val_loss, label='Validation')\n",
        "plt.legend(loc='best')\n",
        "plt.xlabel('Number of epochs')\n",
        "plt.ylabel('Loss')\n",
        "plt.savefig('/content/drive/MyDrive/covid_classification/loss_unfreeze.png', dpi=300)\n",
        "plt.show()"
      ],
      "execution_count": 43,
      "outputs": [
        {
          "output_type": "display_data",
          "data": {
            "image/png": "[encoded data removed]",
            "text/plain": [
              "<Figure size 576x576 with 1 Axes>"
            ]
          },
          "metadata": {
            "tags": [],
            "needs_background": "light"
          }
        }
      ]
    },
    {
      "cell_type": "code",
      "metadata": {
        "id": "s3ymWt4dhz4s"
      },
      "source": [
        "train_loss = history.history['loss']+history_unfreeze.history['loss']"
      ],
      "execution_count": 45,
      "outputs": []
    },
    {
      "cell_type": "code",
      "metadata": {
        "id": "aYEaTf1mhzw3"
      },
      "source": [
        "train_acc = history.history['accuracy']+history_unfreeze.history['accuracy']"
      ],
      "execution_count": 46,
      "outputs": []
    },
    {
      "cell_type": "code",
      "metadata": {
        "id": "Kh9A8jm-hziy"
      },
      "source": [
        "val_loss = history.history['val_loss']+history_unfreeze.history['val_loss']"
      ],
      "execution_count": 47,
      "outputs": []
    },
    {
      "cell_type": "code",
      "metadata": {
        "id": "E5QelmLsiWRs"
      },
      "source": [
        "val_acc = history.history['val_accuracy']+history_unfreeze.history['val_accuracy']"
      ],
      "execution_count": 48,
      "outputs": []
    },
    {
      "cell_type": "code",
      "metadata": {
        "colab": {
          "base_uri": "https://localhost:8080/",
          "height": 497
        },
        "id": "Vgl-v-ToihCB",
        "outputId": "a23c79df-db2f-4bd8-dac9-1f3039e2b0b9"
      },
      "source": [
        "epochs_range = range(len(train_loss))\n",
        "\n",
        "plt.figure(figsize=(8, 8))\n",
        "# plt.subplot(1, 2, 1)\n",
        "plt.plot(epochs_range, train_acc, label='Training')\n",
        "plt.plot(epochs_range, val_acc, label='Validation')\n",
        "plt.legend(loc='best')\n",
        "plt.xlabel('Number of epochs')\n",
        "plt.ylabel('Accuracy')\n",
        "plt.savefig('/content/drive/MyDrive/covid_classification/accuracy_overall.png', dpi=300)\n",
        "plt.show()"
      ],
      "execution_count": 49,
      "outputs": [
        {
          "output_type": "display_data",
          "data": {
            "image/png": "[encoded data removed]",
            "text/plain": [
              "<Figure size 576x576 with 1 Axes>"
            ]
          },
          "metadata": {
            "tags": [],
            "needs_background": "light"
          }
        }
      ]
    },
    {
      "cell_type": "code",
      "metadata": {
        "colab": {
          "base_uri": "https://localhost:8080/",
          "height": 497
        },
        "id": "rtyVjzoei38M",
        "outputId": "d7511f0e-03ae-46a0-8ed3-87625ca0e8fa"
      },
      "source": [
        "plt.figure(figsize=(8, 8))\n",
        "plt.plot(epochs_range, train_loss, label='Training')\n",
        "plt.plot(epochs_range, val_loss, label='Validation')\n",
        "plt.legend(loc='best')\n",
        "plt.xlabel('Number of epochs')\n",
        "plt.ylabel('Loss')\n",
        "plt.savefig('/content/drive/MyDrive/covid_classification/loss_overall.png', dpi=300)\n",
        "plt.show()"
      ],
      "execution_count": 50,
      "outputs": [
        {
          "output_type": "display_data",
          "data": {
            "image/png": "[encoded data removed]",
            "text/plain": [
              "<Figure size 576x576 with 1 Axes>"
            ]
          },
          "metadata": {
            "tags": [],
            "needs_background": "light"
          }
        }
      ]
    },
    {
      "cell_type": "markdown",
      "metadata": {
        "id": "Fuq48LrKihkQ"
      },
      "source": [
        "# TESTING "
      ]
    },
    {
      "cell_type": "code",
      "metadata": {
        "id": "EEHtqflU5OfA",
        "colab": {
          "base_uri": "https://localhost:8080/"
        },
        "outputId": "63f59086-7325-422f-833e-bfdf064db93e"
      },
      "source": [
        "TESING_DIR = 'split_data/test/'\n",
        "test_datagen = tf.keras.preprocessing.image.ImageDataGenerator(rescale=1 / 255.0)\n",
        "test_generator = test_datagen.flow_from_directory(TESING_DIR,\n",
        "                                                    target_size=(224, 224),\n",
        "                                                    class_mode='categorical',\n",
        "                                                    shuffle=False,\n",
        "                                                    batch_size=32)"
      ],
      "execution_count": 51,
      "outputs": [
        {
          "output_type": "stream",
          "text": [
            "Found 1507 images belonging to 3 classes.\n"
          ],
          "name": "stdout"
        }
      ]
    },
    {
      "cell_type": "code",
      "metadata": {
        "id": "UgmQVpEQL2_r"
      },
      "source": [
        "predictions = classification.predict(test_generator)"
      ],
      "execution_count": 52,
      "outputs": []
    },
    {
      "cell_type": "code",
      "metadata": {
        "colab": {
          "base_uri": "https://localhost:8080/"
        },
        "id": "bgQiwU9uMTbb",
        "outputId": "9069a9c0-fc9c-4024-a70d-e7e156de0bf5"
      },
      "source": [
        "predictions.shape"
      ],
      "execution_count": 53,
      "outputs": [
        {
          "output_type": "execute_result",
          "data": {
            "text/plain": [
              "(1507, 3)"
            ]
          },
          "metadata": {
            "tags": []
          },
          "execution_count": 53
        }
      ]
    },
    {
      "cell_type": "code",
      "metadata": {
        "colab": {
          "base_uri": "https://localhost:8080/"
        },
        "id": "Gdn76SBCL23y",
        "outputId": "66665d8d-2b60-4d48-f061-1c153f5bebbe"
      },
      "source": [
        "predicted_classes = np.argmax(predictions, axis=-1)\n",
        "min(predicted_classes),max(predicted_classes)  ## must be 0,2"
      ],
      "execution_count": 54,
      "outputs": [
        {
          "output_type": "execute_result",
          "data": {
            "text/plain": [
              "(0, 2)"
            ]
          },
          "metadata": {
            "tags": []
          },
          "execution_count": 54
        }
      ]
    },
    {
      "cell_type": "code",
      "metadata": {
        "colab": {
          "base_uri": "https://localhost:8080/"
        },
        "id": "NMchV7tmL2hp",
        "outputId": "eed7265e-bf65-4cb3-e100-100fc0fc64fc"
      },
      "source": [
        "test_generator.class_indices"
      ],
      "execution_count": 55,
      "outputs": [
        {
          "output_type": "execute_result",
          "data": {
            "text/plain": [
              "{'COVID': 0, 'NORMAL': 1, 'PNEUMONIA': 2}"
            ]
          },
          "metadata": {
            "tags": []
          },
          "execution_count": 55
        }
      ]
    },
    {
      "cell_type": "code",
      "metadata": {
        "colab": {
          "base_uri": "https://localhost:8080/"
        },
        "id": "vi46if6sM5uZ",
        "outputId": "5b192545-1074-405f-fef4-669004eec6d8"
      },
      "source": [
        "test_generator.classes"
      ],
      "execution_count": 56,
      "outputs": [
        {
          "output_type": "execute_result",
          "data": {
            "text/plain": [
              "array([0, 0, 0, ..., 2, 2, 2], dtype=int32)"
            ]
          },
          "metadata": {
            "tags": []
          },
          "execution_count": 56
        }
      ]
    },
    {
      "cell_type": "code",
      "metadata": {
        "id": "LpvOBZ5JL2w1"
      },
      "source": [
        "labels = test_generator.classes"
      ],
      "execution_count": 57,
      "outputs": []
    },
    {
      "cell_type": "code",
      "metadata": {
        "colab": {
          "base_uri": "https://localhost:8080/"
        },
        "id": "-LVhXM1mK3nt",
        "outputId": "d85764ea-01f4-42fc-ed7b-e41eb884f95e"
      },
      "source": [
        "class_names = list(test_generator.class_indices.keys())\n",
        "class_names"
      ],
      "execution_count": 58,
      "outputs": [
        {
          "output_type": "execute_result",
          "data": {
            "text/plain": [
              "['COVID', 'NORMAL', 'PNEUMONIA']"
            ]
          },
          "metadata": {
            "tags": []
          },
          "execution_count": 58
        }
      ]
    },
    {
      "cell_type": "code",
      "metadata": {
        "colab": {
          "base_uri": "https://localhost:8080/"
        },
        "id": "U4vQOFTAK3jk",
        "outputId": "78b1bc18-d3ae-42e0-c3f5-22bce4115a79"
      },
      "source": [
        "classification_report = metrics.classification_report(labels, predicted_classes, target_names=class_names)\n",
        "print(classification_report)"
      ],
      "execution_count": 59,
      "outputs": [
        {
          "output_type": "stream",
          "text": [
            "              precision    recall  f1-score   support\n",
            "\n",
            "       COVID       0.98      0.98      0.98       503\n",
            "      NORMAL       0.97      0.98      0.97       502\n",
            "   PNEUMONIA       0.99      0.98      0.98       502\n",
            "\n",
            "    accuracy                           0.98      1507\n",
            "   macro avg       0.98      0.98      0.98      1507\n",
            "weighted avg       0.98      0.98      0.98      1507\n",
            "\n"
          ],
          "name": "stdout"
        }
      ]
    },
    {
      "cell_type": "code",
      "metadata": {
        "colab": {
          "base_uri": "https://localhost:8080/"
        },
        "id": "4QsP2_ySPBpZ",
        "outputId": "5e9aeb75-fada-4dfc-cc9d-93e683d8a75b"
      },
      "source": [
        "cm_test = metrics.confusion_matrix(labels, predicted_classes)\n",
        "cm_test"
      ],
      "execution_count": 60,
      "outputs": [
        {
          "output_type": "execute_result",
          "data": {
            "text/plain": [
              "array([[494,   8,   1],\n",
              "       [  7, 490,   5],\n",
              "       [  4,   6, 492]])"
            ]
          },
          "metadata": {
            "tags": []
          },
          "execution_count": 60
        }
      ]
    },
    {
      "cell_type": "code",
      "metadata": {
        "id": "728Zs_S7d2vf"
      },
      "source": [
        "def make_confusion_matrix(cf,\n",
        "                          group_names=None,\n",
        "                          categories='auto',\n",
        "                          count=True,\n",
        "                          percent=True,\n",
        "                          cbar=True,\n",
        "                          xyticks=True,\n",
        "                          xyplotlabels=True,\n",
        "                          sum_stats=True,\n",
        "                          figsize=None,\n",
        "                          cmap='YlGnBu',\n",
        "                          title=None,\n",
        "                          save_dir=None):\n",
        "    \n",
        "    # CODE TO GENERATE TEXT INSIDE EACH SQUARE\n",
        "    blanks = ['' for i in range(cf.size)]\n",
        "\n",
        "    if group_names and len(group_names)==cf.size:\n",
        "        group_labels = [\"{}\\n\".format(value) for value in group_names]\n",
        "    else:\n",
        "        group_labels = blanks\n",
        "\n",
        "    if count:\n",
        "        group_counts = [\"{0:0.0f}\\n\".format(value) for value in cf.flatten()]\n",
        "    else:\n",
        "        group_counts = blanks\n",
        "\n",
        "    if percent:\n",
        "        group_percentages = [\"{0:.2%}\".format(value) for value in cf.flatten()/np.sum(cf)]\n",
        "    else:\n",
        "        group_percentages = blanks\n",
        "\n",
        "    box_labels = [f\"{v1}{v2}{v3}\".strip() for v1, v2, v3 in zip(group_labels,group_counts,group_percentages)]\n",
        "    box_labels = np.asarray(box_labels).reshape(cf.shape[0],cf.shape[1])\n",
        "\n",
        "\n",
        "    # CODE TO GENERATE SUMMARY STATISTICS & TEXT FOR SUMMARY STATS\n",
        "    if sum_stats:\n",
        "        #Accuracy is sum of diagonal divided by total observations\n",
        "        accuracy  = np.trace(cf) / float(np.sum(cf))\n",
        "\n",
        "        #if it is a binary confusion matrix, show some more stats\n",
        "        if len(cf)==2:\n",
        "            #Metrics for Binary Confusion Matrices\n",
        "            precision = cf[1,1] / sum(cf[:,1])\n",
        "            recall    = cf[1,1] / sum(cf[1,:])\n",
        "            f1_score  = 2*precision*recall / (precision + recall)\n",
        "            stats_text = \"\\n\\nAccuracy={:0.3f}\\nPrecision={:0.3f}\\nRecall={:0.3f}\\nF1 Score={:0.3f}\".format(\n",
        "                accuracy,precision,recall,f1_score)\n",
        "        else:\n",
        "            stats_text = \"\\n\\nAccuracy={:0.3f}\".format(accuracy)\n",
        "    else:\n",
        "        stats_text = \"\"\n",
        "\n",
        "\n",
        "    # SET FIGURE PARAMETERS ACCORDING TO OTHER ARGUMENTS\n",
        "    if figsize==None:\n",
        "        #Get default figure size if not set\n",
        "        figsize = plt.rcParams.get('figure.figsize')\n",
        "\n",
        "    if xyticks==False:\n",
        "        #Do not show categories if xyticks is False\n",
        "        categories=False\n",
        "\n",
        "\n",
        "    # MAKE THE HEATMAP VISUALIZATION\n",
        "    plt.figure(figsize=figsize)\n",
        "    hmap = sns.heatmap(cf,annot=box_labels,fmt=\"\",cmap=cmap,cbar=cbar,xticklabels=categories,yticklabels=categories)\n",
        "    hmap.yaxis.set_ticklabels(hmap.yaxis.get_ticklabels(), rotation=0, ha='right')\n",
        "    hmap.xaxis.set_ticklabels(hmap.xaxis.get_ticklabels(), rotation=90, ha='right')\n",
        "\n",
        "    if xyplotlabels:\n",
        "        plt.ylabel('True label')\n",
        "        plt.xlabel('Predicted label' + stats_text)\n",
        "    else:\n",
        "        plt.xlabel(stats_text)\n",
        "    \n",
        "    if title:\n",
        "        plt.title(title)\n",
        "    if save_dir:\n",
        "      plt.savefig(save_dir, dpi=300)"
      ],
      "execution_count": 61,
      "outputs": []
    },
    {
      "cell_type": "code",
      "metadata": {
        "colab": {
          "base_uri": "https://localhost:8080/",
          "height": 439
        },
        "id": "4qunfwb6eAMu",
        "outputId": "18a1500d-0524-4f98-9345-0967b4481deb"
      },
      "source": [
        "make_confusion_matrix(cm_test, figsize=(8,6), cbar=False, categories=class_names, save_dir='/content/drive/MyDrive/covid_classification/cm.png', sum_stats=False)"
      ],
      "execution_count": 62,
      "outputs": [
        {
          "output_type": "display_data",
          "data": {
            "image/png": "[encoded data removed]",
            "text/plain": [
              "<Figure size 576x432 with 1 Axes>"
            ]
          },
          "metadata": {
            "tags": [],
            "needs_background": "light"
          }
        }
      ]
    },
    {
      "cell_type": "code",
      "metadata": {
        "colab": {
          "base_uri": "https://localhost:8080/",
          "height": 547
        },
        "id": "gcLm9Va8UPZH",
        "outputId": "cc0c8934-3f39-4161-fa18-fb079b7cd244"
      },
      "source": [
        "from sklearn.preprocessing import LabelBinarizer\n",
        "from sklearn.metrics import roc_curve, auc, roc_auc_score\n",
        "\n",
        "\n",
        "# set plot figure size\n",
        "fig, c_ax = plt.subplots(1,1, figsize = (12, 8))\n",
        "\n",
        "# function for scoring roc auc score for multi-class\n",
        "def multiclass_roc_auc_score(y_test, y_pred, average=\"macro\"):\n",
        "    lb = LabelBinarizer()\n",
        "    lb.fit(y_test)\n",
        "    y_test = lb.transform(y_test)\n",
        "    y_pred = lb.transform(y_pred)\n",
        "\n",
        "    for (idx, c_label) in enumerate(class_names):\n",
        "        fpr, tpr, thresholds = roc_curve(y_test[:,idx].astype(int), y_pred[:,idx])\n",
        "        c_ax.plot(fpr, tpr, label = '%s (AUC:%0.2f)'  % (c_label, auc(fpr, tpr)))\n",
        "    c_ax.plot(fpr, fpr, '--', label = 'Random Guessing')\n",
        "    return roc_auc_score(y_test, y_pred, average=average)\n",
        "\n",
        "\n",
        "print(f'ROC AUC score: {multiclass_roc_auc_score(labels, predicted_classes)} \\n')\n",
        "\n",
        "c_ax.legend()\n",
        "c_ax.set_title('ROC Analysis')\n",
        "c_ax.set_xlabel('False Positive Rate')\n",
        "c_ax.set_ylabel('True Positive Rate')\n",
        "plt.savefig('/content/drive/MyDrive/covid_classification/roc.png', dpi=300)\n",
        "plt.show()\n"
      ],
      "execution_count": 63,
      "outputs": [
        {
          "output_type": "stream",
          "text": [
            "ROC AUC score: 0.9845709969763915 \n",
            "\n"
          ],
          "name": "stdout"
        },
        {
          "output_type": "display_data",
          "data": {
            "image/png": "[encoded data removed]",
            "text/plain": [
              "<Figure size 864x576 with 1 Axes>"
            ]
          },
          "metadata": {
            "tags": [],
            "needs_background": "light"
          }
        }
      ]
    },
    {
      "cell_type": "code",
      "metadata": {
        "colab": {
          "base_uri": "https://localhost:8080/"
        },
        "id": "aAdA0zfPXe5S",
        "outputId": "081a023d-9c40-4275-b6e2-6654c03ecdfa"
      },
      "source": [
        "print(f'metric name : [COVID, NORMAL, PNEUMONIA]')\n",
        "FP = cm_test.sum(axis=0) - np.diag(cm_test) \n",
        "FN = cm_test.sum(axis=1) - np.diag(cm_test)\n",
        "TP = np.diag(cm_test)\n",
        "TN = cm_test.sum() - (FP + FN + TP)\n",
        "FP = FP.astype(float)\n",
        "FN = FN.astype(float)\n",
        "TP = TP.astype(float)\n",
        "TN = TN.astype(float)\n",
        "print(f'False Positives: {FP}')\n",
        "print(f'False Negatives: {FN}')\n",
        "print(f'True Positives: {TP}')\n",
        "print(f'True Negatives: {TN}')\n",
        "\n",
        "# Sensitivity, hit rate, recall, or true positive rate\n",
        "TPR = TP/(TP+FN)\n",
        "print(f'Sensitivity, hit rate, recall, or true positive rate : {TPR}')\n",
        "# Specificity or true negative rate\n",
        "TNR = TN/(TN+FP) \n",
        "print(f'Specificity or true negative rate : {TNR}')\n",
        "# Precision or positive predictive value\n",
        "PPV = TP/(TP+FP)\n",
        "print(f'Precision or positive predictive value : {PPV}')\n",
        "# Negative predictive value\n",
        "NPV = TN/(TN+FN)\n",
        "print(f'Negative predictive value : {NPV}')\n",
        "# Fall out or false positive rate\n",
        "FPR = FP/(FP+TN)\n",
        "print(f'Fall out or false positive rate : {FPR}')\n",
        "# False negative rate\n",
        "FNR = FN/(TP+FN)\n",
        "print(f'False negative rate : {FNR}')\n",
        "# False discovery rate\n",
        "FDR = FP/(TP+FP)\n",
        "print(f'False discovery rate : {FDR}')\n",
        "# Overall accuracy for each class\n",
        "ACC = (TP+TN)/(TP+FP+FN+TN)\n",
        "print(f'Overall accuracy for each class : {ACC}')"
      ],
      "execution_count": 64,
      "outputs": [
        {
          "output_type": "stream",
          "text": [
            "metric name : [COVID, NORMAL, PNEUMONIA]\n",
            "False Positives: [11. 14.  6.]\n",
            "False Negatives: [ 9. 12. 10.]\n",
            "True Positives: [494. 490. 492.]\n",
            "True Negatives: [993. 991. 999.]\n",
            "Sensitivity, hit rate, recall, or true positive rate : [0.98210736 0.97609562 0.98007968]\n",
            "Specificity or true negative rate : [0.98904382 0.98606965 0.99402985]\n",
            "Precision or positive predictive value : [0.97821782 0.97222222 0.98795181]\n",
            "Negative predictive value : [0.99101796 0.98803589 0.9900892 ]\n",
            "Fall out or false positive rate : [0.01095618 0.01393035 0.00597015]\n",
            "False negative rate : [0.01789264 0.02390438 0.01992032]\n",
            "False discovery rate : [0.02178218 0.02777778 0.01204819]\n",
            "Overall accuracy for each class : [0.9867286  0.98274718 0.98938288]\n"
          ],
          "name": "stdout"
        }
      ]
    },
    {
      "cell_type": "code",
      "metadata": {
        "colab": {
          "base_uri": "https://localhost:8080/"
        },
        "id": "CvYAa43FXezg",
        "outputId": "d24392bc-d300-40e1-d617-2983c1f08491"
      },
      "source": [
        "sum(ACC)/3"
      ],
      "execution_count": 66,
      "outputs": [
        {
          "output_type": "execute_result",
          "data": {
            "text/plain": [
              "0.9862862198628622"
            ]
          },
          "metadata": {
            "tags": []
          },
          "execution_count": 66
        }
      ]
    },
    {
      "cell_type": "code",
      "metadata": {
        "id": "QAytl9tfKksL"
      },
      "source": [
        "# img = keras.preprocessing.image.load_img(\n",
        "#     img_path, target_size=(img_height, img_width)\n",
        "# )\n",
        "# img_array = keras.preprocessing.image.img_to_array(img)\n",
        "# img_array = tf.expand_dims(img_array, 0) # Create a batch\n",
        "\n",
        "# predictions = model.predict(img_array)\n",
        "# score = tf.nn.softmax(predictions[0])\n",
        "\n",
        "# print(\n",
        "#     \"This image most likely belongs to {} with a {:.2f} percent confidence.\"\n",
        "#     .format(class_names[np.argmax(score)], 100 * np.max(score))\n",
        "# )"
      ],
      "execution_count": 65,
      "outputs": []
    },
    {
      "cell_type": "code",
      "metadata": {
        "id": "tv-uaufmoRK5"
      },
      "source": [
        ""
      ],
      "execution_count": null,
      "outputs": []
    },
    {
      "cell_type": "code",
      "metadata": {
        "id": "TJMYL-aRn3XN"
      },
      "source": [
        ""
      ],
      "execution_count": null,
      "outputs": []
    }
  ]
}